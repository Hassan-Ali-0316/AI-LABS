{
 "cells": [
  {
   "cell_type": "code",
   "execution_count": 1,
   "id": "b882764e-e9a2-4865-9e00-c14157659610",
   "metadata": {},
   "outputs": [
    {
     "name": "stdout",
     "output_type": "stream",
     "text": [
      "Path to goal: [(0, 0), (0, 1), (1, 1), (2, 1), (2, 2), (2, 3)]\n"
     ]
    },
    {
     "data": {
      "text/plain": [
       "[(0, 0), (0, 1), (1, 1), (2, 1), (2, 2), (2, 3)]"
      ]
     },
     "execution_count": 1,
     "metadata": {},
     "output_type": "execute_result"
    }
   ],
   "source": [
    "def bfs_grid(grid, start, goal):\n",
    "    rows, cols = len(grid), len(grid[0])\n",
    "    directions = [(0, 1), (1, 0), (0, -1), (-1, 0)]\n",
    "    queue = [(start, [start])]\n",
    "    visited = set([start])\n",
    "    while queue:\n",
    "        (x, y), path = queue.pop(0)\n",
    "        if (x, y) == goal:\n",
    "            print(f\"Path to goal: {path}\")\n",
    "            return path\n",
    "        for dx, dy in directions:\n",
    "            nx, ny = x + dx, y + dy\n",
    "            if 0 <= nx < rows and 0 <= ny < cols and grid[nx][ny] != 1 and (nx, ny) not in visited:\n",
    "                visited.add((nx, ny))\n",
    "                queue.append(((nx, ny), path + [(nx, ny)]))\n",
    "    print(\"Goal not reachable\")\n",
    "    return None\n",
    "\n",
    "# Sample Test\n",
    "grid = [\n",
    "    [0, 0, 1, 0],\n",
    "    [1, 0, 1, 0],\n",
    "    [0, 0, 0, 0],\n",
    "    [0, 1, 1, 0]\n",
    "]\n",
    "bfs_grid(grid, (0, 0), (2, 3))"
   ]
  },
  {
   "cell_type": "code",
   "execution_count": null,
   "id": "c85a8344-5b86-48e4-a695-2a2781d3e9c1",
   "metadata": {},
   "outputs": [],
   "source": []
  }
 ],
 "metadata": {
  "kernelspec": {
   "display_name": "Python 3 (ipykernel)",
   "language": "python",
   "name": "python3"
  },
  "language_info": {
   "codemirror_mode": {
    "name": "ipython",
    "version": 3
   },
   "file_extension": ".py",
   "mimetype": "text/x-python",
   "name": "python",
   "nbconvert_exporter": "python",
   "pygments_lexer": "ipython3",
   "version": "3.12.1"
  }
 },
 "nbformat": 4,
 "nbformat_minor": 5
}
