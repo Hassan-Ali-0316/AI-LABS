{
 "cells": [
  {
   "cell_type": "code",
   "execution_count": 1,
   "id": "be20f9a9-38df-43cc-b5c6-400be15fe922",
   "metadata": {},
   "outputs": [
    {
     "name": "stdout",
     "output_type": "stream",
     "text": [
      "Best Path: ('A', 'B', 'D', 'C'), Cost: 80\n"
     ]
    },
    {
     "data": {
      "text/plain": [
       "(('A', 'B', 'D', 'C'), 80)"
      ]
     },
     "execution_count": 1,
     "metadata": {},
     "output_type": "execute_result"
    }
   ],
   "source": [
    "import itertools\n",
    "\n",
    "def tsp_bruteforce(graph):\n",
    "    cities = list(graph.keys())\n",
    "    min_cost = float('inf')\n",
    "    best_path = []\n",
    "    for perm in itertools.permutations(cities):\n",
    "        cost = sum(graph[perm[i]][perm[i+1]] for i in range(len(perm)-1)) + graph[perm[-1]][perm[0]]\n",
    "        if cost < min_cost:\n",
    "            min_cost = cost\n",
    "            best_path = perm\n",
    "    print(f\"Best Path: {best_path}, Cost: {min_cost}\")\n",
    "    return best_path, min_cost\n",
    "\n",
    "# Sample Test\n",
    "graph = {\n",
    "    'A': {'B': 10, 'C': 15, 'D': 20},\n",
    "    'B': {'A': 10, 'C': 35, 'D': 25},\n",
    "    'C': {'A': 15, 'B': 35, 'D': 30},\n",
    "    'D': {'A': 20, 'B': 25, 'C': 30}\n",
    "}\n",
    "tsp_bruteforce(graph)"
   ]
  },
  {
   "cell_type": "code",
   "execution_count": null,
   "id": "77bf13fd-9e52-42d7-8eab-f4f7966b33d8",
   "metadata": {},
   "outputs": [],
   "source": []
  }
 ],
 "metadata": {
  "kernelspec": {
   "display_name": "Python 3 (ipykernel)",
   "language": "python",
   "name": "python3"
  },
  "language_info": {
   "codemirror_mode": {
    "name": "ipython",
    "version": 3
   },
   "file_extension": ".py",
   "mimetype": "text/x-python",
   "name": "python",
   "nbconvert_exporter": "python",
   "pygments_lexer": "ipython3",
   "version": "3.12.1"
  }
 },
 "nbformat": 4,
 "nbformat_minor": 5
}
