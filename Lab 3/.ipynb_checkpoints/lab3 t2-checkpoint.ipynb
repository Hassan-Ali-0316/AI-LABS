{
 "cells": [
  {
   "cell_type": "code",
   "execution_count": 1,
   "id": "05d725f6-1610-46cc-8779-7d67f951061c",
   "metadata": {},
   "outputs": [
    {
     "name": "stdout",
     "output_type": "stream",
     "text": [
      "Goal found with UCS. Path: ['A', 'C', 'D'], Total Cost: 3\n"
     ]
    }
   ],
   "source": [
    "import heapq\n",
    "\n",
    "def ucs(graph, start, goal):\n",
    "    frontier = [(0, start)]\n",
    "    visited = set()\n",
    "    cost_so_far = {start: 0}\n",
    "    came_from = {start: None}\n",
    "    while frontier:\n",
    "        current_cost, current_node = heapq.heappop(frontier)\n",
    "        if current_node in visited:\n",
    "            continue\n",
    "        visited.add(current_node)\n",
    "        if current_node == goal:\n",
    "            path = []\n",
    "            while current_node is not None:\n",
    "                path.append(current_node)\n",
    "                current_node = came_from[current_node]\n",
    "            path.reverse()\n",
    "            print(f\"Goal found with UCS. Path: {path}, Total Cost: {current_cost}\")\n",
    "            return\n",
    "        for neighbor, cost in graph[current_node].items():\n",
    "            new_cost = current_cost + cost\n",
    "            if neighbor not in cost_so_far or new_cost < cost_so_far[neighbor]:\n",
    "                cost_so_far[neighbor] = new_cost\n",
    "                came_from[neighbor] = current_node\n",
    "                heapq.heappush(frontier, (new_cost, neighbor))\n",
    "    print(\"Goal not found\")\n",
    "\n",
    "# Sample Test\n",
    "graph = {\n",
    "    'A': {'B': 2, 'C': 1},\n",
    "    'B': {'D': 4},\n",
    "    'C': {'D': 2},\n",
    "    'D': {}\n",
    "}\n",
    "ucs(graph, 'A', 'D')"
   ]
  },
  {
   "cell_type": "code",
   "execution_count": null,
   "id": "abe32d02-4d87-4230-9f0c-8ad4199d0333",
   "metadata": {},
   "outputs": [],
   "source": []
  }
 ],
 "metadata": {
  "kernelspec": {
   "display_name": "Python 3 (ipykernel)",
   "language": "python",
   "name": "python3"
  },
  "language_info": {
   "codemirror_mode": {
    "name": "ipython",
    "version": 3
   },
   "file_extension": ".py",
   "mimetype": "text/x-python",
   "name": "python",
   "nbconvert_exporter": "python",
   "pygments_lexer": "ipython3",
   "version": "3.12.1"
  }
 },
 "nbformat": 4,
 "nbformat_minor": 5
}
