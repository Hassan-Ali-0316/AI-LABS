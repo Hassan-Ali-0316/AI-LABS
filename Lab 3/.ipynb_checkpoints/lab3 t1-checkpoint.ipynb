{
 "cells": [
  {
   "cell_type": "code",
   "execution_count": 1,
   "id": "e480b983-e055-4545-8699-8e83f01e0c06",
   "metadata": {},
   "outputs": [],
   "source": [
    "import heapq"
   ]
  },
  {
   "cell_type": "code",
   "execution_count": 2,
   "id": "32ed46a6-0633-4288-bea2-32fb6bb36fbb",
   "metadata": {},
   "outputs": [
    {
     "name": "stdout",
     "output_type": "stream",
     "text": [
      "Goal found with DLS. Path: ['A', 'B', 'E']\n"
     ]
    },
    {
     "data": {
      "text/plain": [
       "['A', 'B', 'E']"
      ]
     },
     "execution_count": 2,
     "metadata": {},
     "output_type": "execute_result"
    }
   ],
   "source": [
    "def dls(graph, start, goal, depth_limit):\n",
    "    visited = []\n",
    "    def dfs(node, depth):\n",
    "        if depth > depth_limit:\n",
    "            return None  # Limit reached\n",
    "        visited.append(node)\n",
    "        if node == goal:\n",
    "            print(f\"Goal found! Path: {visited}\")\n",
    "            return visited\n",
    "        for neighbor in graph.get(node, []):\n",
    "            if neighbor not in visited:\n",
    "                path = dfs(neighbor, depth + 1)\n",
    "                if path:\n",
    "                    return path\n",
    "        visited.pop()  \n",
    "        return None\n",
    "    return dfs(start, 0)\n",
    "\n",
    "# Sample Test\n",
    "graph = {\n",
    "    'A': ['B', 'C'],\n",
    "    'B': ['D', 'E'],\n",
    "    'C': ['F', 'G'],\n",
    "    'D': [], 'E': [], 'F': [], 'G': []\n",
    "}\n",
    "dls(graph, 'A', 'E', 2)"
   ]
  },
  {
   "cell_type": "code",
   "execution_count": null,
   "id": "db618432-b0b0-4314-9c1e-66b7e6e49f7b",
   "metadata": {},
   "outputs": [],
   "source": []
  }
 ],
 "metadata": {
  "kernelspec": {
   "display_name": "Python 3 (ipykernel)",
   "language": "python",
   "name": "python3"
  },
  "language_info": {
   "codemirror_mode": {
    "name": "ipython",
    "version": 3
   },
   "file_extension": ".py",
   "mimetype": "text/x-python",
   "name": "python",
   "nbconvert_exporter": "python",
   "pygments_lexer": "ipython3",
   "version": "3.12.1"
  }
 },
 "nbformat": 4,
 "nbformat_minor": 5
}
