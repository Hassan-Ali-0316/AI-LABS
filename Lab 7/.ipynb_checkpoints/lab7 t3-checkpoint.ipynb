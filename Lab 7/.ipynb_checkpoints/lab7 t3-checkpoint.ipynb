{
 "cells": [
  {
   "cell_type": "code",
   "execution_count": 1,
   "id": "baa435fe-f5da-4980-93bf-fdcb34f3371a",
   "metadata": {},
   "outputs": [
    {
     "name": "stdout",
     "output_type": "stream",
     "text": [
      "Collecting python-chess\n",
      "  Downloading python_chess-1.999-py3-none-any.whl.metadata (776 bytes)\n",
      "Requirement already satisfied: chess<2,>=1 in c:\\users\\ha159\\appdata\\local\\programs\\python\\python312\\lib\\site-packages (from python-chess) (1.11.2)\n",
      "Downloading python_chess-1.999-py3-none-any.whl (1.4 kB)\n",
      "Installing collected packages: python-chess\n",
      "Successfully installed python-chess-1.999\n",
      "Note: you may need to restart the kernel to use updated packages.\n"
     ]
    }
   ],
   "source": [
    "pip install python-chess\n"
   ]
  },
  {
   "cell_type": "code",
   "execution_count": 2,
   "id": "86bc899a-451e-428c-9b03-88661ca27062",
   "metadata": {},
   "outputs": [],
   "source": [
    "import chess\n",
    "import chess.engine\n",
    "import math\n",
    "import random\n",
    "\n",
    "# Piece values for evaluation\n",
    "piece_values = {\n",
    "    chess.PAWN: 100,\n",
    "    chess.KNIGHT: 320,\n",
    "    chess.BISHOP: 330,\n",
    "    chess.ROOK: 500,\n",
    "    chess.QUEEN: 900,\n",
    "    chess.KING: 20000\n",
    "}\n",
    "\n",
    "def evaluate_board(board):\n",
    "    if board.is_checkmate():\n",
    "        return -9999 if board.turn else 9999\n",
    "    elif board.is_stalemate() or board.is_insufficient_material():\n",
    "        return 0\n",
    "\n",
    "    value = 0\n",
    "    for piece_type in piece_values:\n",
    "        value += len(board.pieces(piece_type, chess.WHITE)) * piece_values[piece_type]\n",
    "        value -= len(board.pieces(piece_type, chess.BLACK)) * piece_values[piece_type]\n",
    "    \n",
    "    return value\n",
    "\n",
    "def minimax(board, depth, alpha, beta, maximizing_player):\n",
    "    if depth == 0 or board.is_game_over():\n",
    "        return evaluate_board(board), None\n",
    "\n",
    "    best_move = None\n",
    "    legal_moves = list(board.legal_moves)\n",
    "    random.shuffle(legal_moves)  # To prevent deterministic behavior\n",
    "\n",
    "    if maximizing_player:\n",
    "        max_eval = -math.inf\n",
    "        for move in legal_moves:\n",
    "            board.push(move)\n",
    "            eval, _ = minimax(board, depth - 1, alpha, beta, False)\n",
    "            board.pop()\n",
    "\n",
    "            if eval > max_eval:\n",
    "                max_eval = eval\n",
    "                best_move = move\n",
    "\n",
    "            alpha = max(alpha, eval)\n",
    "            if beta <= alpha:\n",
    "                break\n",
    "        return max_eval, best_move\n",
    "\n",
    "    else:\n",
    "        min_eval = math.inf\n",
    "        for move in legal_moves:\n",
    "            board.push(move)\n",
    "            eval, _ = minimax(board, depth - 1, alpha, beta, True)\n",
    "            board.pop()\n",
    "\n",
    "            if eval < min_eval:\n",
    "                min_eval = eval\n",
    "                best_move = move\n",
    "\n",
    "            beta = min(beta, eval)\n",
    "            if beta <= alpha:\n",
    "                break\n",
    "        return min_eval, best_move\n"
   ]
  },
  {
   "cell_type": "code",
   "execution_count": null,
   "id": "da64c186-693a-45e2-baea-01a1fc35976a",
   "metadata": {},
   "outputs": [
    {
     "name": "stdout",
     "output_type": "stream",
     "text": [
      "r n b q k b n r\n",
      "p p p p p p p p\n",
      ". . . . . . . .\n",
      ". . . . . . . .\n",
      ". . . . . . . .\n",
      ". . . . . . . .\n",
      "P P P P P P P P\n",
      "R N B Q K B N R\n",
      "\n"
     ]
    },
    {
     "name": "stdin",
     "output_type": "stream",
     "text": [
      "Enter your move (e.g. e2e4):  def play_game():     board = chess.Board()      while not board.is_game_over():         print(board)         print()          if board.turn == chess.WHITE:             # Human (White)             move = None             while move not in board.legal_moves:                 try:                     user_input = input(\"Enter your move (e.g. e2e4): \")                     move = chess.Move.from_uci(user_input)                     if move not in board.legal_moves:                         print(\"Invalid move. Try again.\")                 except:                     print(\"Invalid format. Try again.\")             board.push(move)          else:             # AI (Black)             print(\"AI is thinking...\")             _, ai_move = minimax(board, depth=3, alpha=-math.inf, beta=math.inf, maximizing_player=True)             print(f\"AI plays: {ai_move}\")             board.push(ai_move)      print(board)     result = board.result()     print(f\"\\nGame over. Result: {result}\")  play_game()\n"
     ]
    },
    {
     "name": "stdout",
     "output_type": "stream",
     "text": [
      "Invalid format. Try again.\n"
     ]
    }
   ],
   "source": [
    "def play_game():\n",
    "    board = chess.Board()\n",
    "\n",
    "    while not board.is_game_over():\n",
    "        print(board)\n",
    "        print()\n",
    "\n",
    "        if board.turn == chess.WHITE:\n",
    "            # Human (White)\n",
    "            move = None\n",
    "            while move not in board.legal_moves:\n",
    "                try:\n",
    "                    user_input = input(\"Enter your move (e.g. e2e4): \")\n",
    "                    move = chess.Move.from_uci(user_input)\n",
    "                    if move not in board.legal_moves:\n",
    "                        print(\"Invalid move. Try again.\")\n",
    "                except:\n",
    "                    print(\"Invalid format.)\n",
    "            board.push(ai_move)\n",
    "\n",
    "    print(board)\n",
    "    result = board.result()\n",
    "    print(f\"\\nGame over. Result: {result}\")\n",
    "\n",
    "play_game()\n"
   ]
  },
  {
   "cell_type": "code",
   "execution_count": null,
   "id": "c754d390-b709-480b-b95c-bc876db8a1bd",
   "metadata": {},
   "outputs": [],
   "source": []
  }
 ],
 "metadata": {
  "kernelspec": {
   "display_name": "Python 3 (ipykernel)",
   "language": "python",
   "name": "python3"
  },
  "language_info": {
   "codemirror_mode": {
    "name": "ipython",
    "version": 3
   },
   "file_extension": ".py",
   "mimetype": "text/x-python",
   "name": "python",
   "nbconvert_exporter": "python",
   "pygments_lexer": "ipython3",
   "version": "3.12.1"
  }
 },
 "nbformat": 4,
 "nbformat_minor": 5
}
