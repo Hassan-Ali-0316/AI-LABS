{
 "cells": [
  {
   "cell_type": "code",
   "execution_count": 1,
   "id": "f546cd16-eafa-4177-b70e-fb106430e678",
   "metadata": {},
   "outputs": [
    {
     "name": "stdout",
     "output_type": "stream",
     "text": [
      "Initial Coins: [3, 9, 1, 2, 7, 5]\n",
      "Max picks 5, Remaining Coins: [3, 9, 1, 2, 7]\n",
      "Min picks 3, Remaining Coins: [9, 1, 2, 7]\n",
      "Max picks 9, Remaining Coins: [1, 2, 7]\n",
      "Min picks 1, Remaining Coins: [2, 7]\n",
      "Max picks 7, Remaining Coins: [2]\n",
      "Min picks 2, Remaining Coins: []\n",
      "\n",
      "Final Scores - Max: 21, Min: 6\n",
      "Winner: Max\n"
     ]
    }
   ],
   "source": [
    "def alpha_beta(coins, l, r, alpha, beta, is_max):\n",
    "    if l > r:\n",
    "        return 0\n",
    "\n",
    "    if is_max:\n",
    "        pick_left = coins[l] + alpha_beta(coins, l + 1, r, alpha, beta, False)\n",
    "        pick_right = coins[r] + alpha_beta(coins, l, r - 1, alpha, beta, False)\n",
    "        best = max(pick_left, pick_right)\n",
    "        alpha = max(alpha, best)\n",
    "        if beta <= alpha:\n",
    "            return best\n",
    "        return best\n",
    "    else:\n",
    "        if coins[l] <= coins[r]:\n",
    "            return alpha_beta(coins, l + 1, r, alpha, beta, True)\n",
    "        else:\n",
    "            return alpha_beta(coins, l, r - 1, alpha, beta, True)\n",
    "\n",
    "def simulate_game(coins):\n",
    "    max_score = 0\n",
    "    min_score = 0\n",
    "    l, r = 0, len(coins) - 1\n",
    "    turn = \"Max\"\n",
    "\n",
    "    print(f\"Initial Coins: {coins}\")\n",
    "\n",
    "    while l <= r:\n",
    "        if turn == \"Max\":\n",
    "            pick_left = coins[l] + alpha_beta(coins, l + 1, r, float('-inf'), float('inf'), False)\n",
    "            pick_right = coins[r] + alpha_beta(coins, l, r - 1, float('-inf'), float('inf'), False)\n",
    "\n",
    "            if pick_left >= pick_right:\n",
    "                max_score += coins[l]\n",
    "                print(f\"Max picks {coins[l]}, Remaining Coins: {coins[l+1:r+1]}\")\n",
    "                l += 1\n",
    "            else:\n",
    "                max_score += coins[r]\n",
    "                print(f\"Max picks {coins[r]}, Remaining Coins: {coins[l:r]}\")\n",
    "                r -= 1\n",
    "            turn = \"Min\"\n",
    "\n",
    "        else:\n",
    "            if coins[l] <= coins[r]:\n",
    "                min_score += coins[l]\n",
    "                print(f\"Min picks {coins[l]}, Remaining Coins: {coins[l+1:r+1]}\")\n",
    "                l += 1\n",
    "            else:\n",
    "                min_score += coins[r]\n",
    "                print(f\"Min picks {coins[r]}, Remaining Coins: {coins[l:r]}\")\n",
    "                r -= 1\n",
    "            turn = \"Max\"\n",
    "\n",
    "    print(f\"\\nFinal Scores - Max: {max_score}, Min: {min_score}\")\n",
    "    if max_score > min_score:\n",
    "        print(\"Winner: Max\")\n",
    "    elif max_score < min_score:\n",
    "        print(\"Winner: Min\")\n",
    "    else:\n",
    "        print(\"It's a Draw!\")\n",
    "\n",
    "coins = [3, 9, 1, 2, 7, 5]\n",
    "simulate_game(coins)\n"
   ]
  },
  {
   "cell_type": "code",
   "execution_count": null,
   "id": "104ed819-557a-46ff-bb6f-34f7b8da4a4c",
   "metadata": {},
   "outputs": [],
   "source": []
  }
 ],
 "metadata": {
  "kernelspec": {
   "display_name": "Python 3 (ipykernel)",
   "language": "python",
   "name": "python3"
  },
  "language_info": {
   "codemirror_mode": {
    "name": "ipython",
    "version": 3
   },
   "file_extension": ".py",
   "mimetype": "text/x-python",
   "name": "python",
   "nbconvert_exporter": "python",
   "pygments_lexer": "ipython3",
   "version": "3.12.1"
  }
 },
 "nbformat": 4,
 "nbformat_minor": 5
}
