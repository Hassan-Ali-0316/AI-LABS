{
 "cells": [
  {
   "cell_type": "code",
   "execution_count": 24,
   "id": "833bd498-7ec6-42ad-ab47-0bc5af34fa5e",
   "metadata": {},
   "outputs": [],
   "source": [
    "import pandas as pd\n",
    "import numpy as np"
   ]
  },
  {
   "cell_type": "code",
   "execution_count": 25,
   "id": "498b4cfa-22c5-4cc4-870b-a07f9f4b44d5",
   "metadata": {},
   "outputs": [],
   "source": [
    "dict = pd.read_csv('Titanic-Dataset.csv')\n",
    "df = pd.DataFrame(dict)"
   ]
  },
  {
   "cell_type": "code",
   "execution_count": 26,
   "id": "11411f18-e9cd-411c-ab01-fe4a956b3d3b",
   "metadata": {},
   "outputs": [
    {
     "data": {
      "text/html": [
       "<div>\n",
       "<style scoped>\n",
       "    .dataframe tbody tr th:only-of-type {\n",
       "        vertical-align: middle;\n",
       "    }\n",
       "\n",
       "    .dataframe tbody tr th {\n",
       "        vertical-align: top;\n",
       "    }\n",
       "\n",
       "    .dataframe thead th {\n",
       "        text-align: right;\n",
       "    }\n",
       "</style>\n",
       "<table border=\"1\" class=\"dataframe\">\n",
       "  <thead>\n",
       "    <tr style=\"text-align: right;\">\n",
       "      <th></th>\n",
       "      <th>PassengerId</th>\n",
       "      <th>Survived</th>\n",
       "      <th>Pclass</th>\n",
       "      <th>Name</th>\n",
       "      <th>Sex</th>\n",
       "      <th>Age</th>\n",
       "      <th>SibSp</th>\n",
       "      <th>Parch</th>\n",
       "      <th>Ticket</th>\n",
       "      <th>Fare</th>\n",
       "      <th>Cabin</th>\n",
       "      <th>Embarked</th>\n",
       "    </tr>\n",
       "  </thead>\n",
       "  <tbody>\n",
       "    <tr>\n",
       "      <th>0</th>\n",
       "      <td>1</td>\n",
       "      <td>0</td>\n",
       "      <td>3</td>\n",
       "      <td>Braund, Mr. Owen Harris</td>\n",
       "      <td>male</td>\n",
       "      <td>22.0</td>\n",
       "      <td>1</td>\n",
       "      <td>0</td>\n",
       "      <td>A/5 21171</td>\n",
       "      <td>7.2500</td>\n",
       "      <td>NaN</td>\n",
       "      <td>S</td>\n",
       "    </tr>\n",
       "    <tr>\n",
       "      <th>1</th>\n",
       "      <td>2</td>\n",
       "      <td>1</td>\n",
       "      <td>1</td>\n",
       "      <td>Cumings, Mrs. John Bradley (Florence Briggs Th...</td>\n",
       "      <td>female</td>\n",
       "      <td>38.0</td>\n",
       "      <td>1</td>\n",
       "      <td>0</td>\n",
       "      <td>PC 17599</td>\n",
       "      <td>71.2833</td>\n",
       "      <td>C85</td>\n",
       "      <td>C</td>\n",
       "    </tr>\n",
       "    <tr>\n",
       "      <th>2</th>\n",
       "      <td>3</td>\n",
       "      <td>1</td>\n",
       "      <td>3</td>\n",
       "      <td>Heikkinen, Miss. Laina</td>\n",
       "      <td>female</td>\n",
       "      <td>26.0</td>\n",
       "      <td>0</td>\n",
       "      <td>0</td>\n",
       "      <td>STON/O2. 3101282</td>\n",
       "      <td>7.9250</td>\n",
       "      <td>NaN</td>\n",
       "      <td>S</td>\n",
       "    </tr>\n",
       "    <tr>\n",
       "      <th>3</th>\n",
       "      <td>4</td>\n",
       "      <td>1</td>\n",
       "      <td>1</td>\n",
       "      <td>Futrelle, Mrs. Jacques Heath (Lily May Peel)</td>\n",
       "      <td>female</td>\n",
       "      <td>35.0</td>\n",
       "      <td>1</td>\n",
       "      <td>0</td>\n",
       "      <td>113803</td>\n",
       "      <td>53.1000</td>\n",
       "      <td>C123</td>\n",
       "      <td>S</td>\n",
       "    </tr>\n",
       "    <tr>\n",
       "      <th>4</th>\n",
       "      <td>5</td>\n",
       "      <td>0</td>\n",
       "      <td>3</td>\n",
       "      <td>Allen, Mr. William Henry</td>\n",
       "      <td>male</td>\n",
       "      <td>35.0</td>\n",
       "      <td>0</td>\n",
       "      <td>0</td>\n",
       "      <td>373450</td>\n",
       "      <td>8.0500</td>\n",
       "      <td>NaN</td>\n",
       "      <td>S</td>\n",
       "    </tr>\n",
       "  </tbody>\n",
       "</table>\n",
       "</div>"
      ],
      "text/plain": [
       "   PassengerId  Survived  Pclass  \\\n",
       "0            1         0       3   \n",
       "1            2         1       1   \n",
       "2            3         1       3   \n",
       "3            4         1       1   \n",
       "4            5         0       3   \n",
       "\n",
       "                                                Name     Sex   Age  SibSp  \\\n",
       "0                            Braund, Mr. Owen Harris    male  22.0      1   \n",
       "1  Cumings, Mrs. John Bradley (Florence Briggs Th...  female  38.0      1   \n",
       "2                             Heikkinen, Miss. Laina  female  26.0      0   \n",
       "3       Futrelle, Mrs. Jacques Heath (Lily May Peel)  female  35.0      1   \n",
       "4                           Allen, Mr. William Henry    male  35.0      0   \n",
       "\n",
       "   Parch            Ticket     Fare Cabin Embarked  \n",
       "0      0         A/5 21171   7.2500   NaN        S  \n",
       "1      0          PC 17599  71.2833   C85        C  \n",
       "2      0  STON/O2. 3101282   7.9250   NaN        S  \n",
       "3      0            113803  53.1000  C123        S  \n",
       "4      0            373450   8.0500   NaN        S  "
      ]
     },
     "execution_count": 26,
     "metadata": {},
     "output_type": "execute_result"
    }
   ],
   "source": [
    "df.head()"
   ]
  },
  {
   "cell_type": "code",
   "execution_count": 28,
   "id": "064cb292-f8dc-42f8-b10f-0a03670d6152",
   "metadata": {},
   "outputs": [],
   "source": [
    "# cleaning data\n",
    "df = df.dropna()\n",
    "df = df.drop_duplicates()"
   ]
  },
  {
   "cell_type": "code",
   "execution_count": 32,
   "id": "92f52c34-9fa4-4230-9a6e-edbb83dc19fd",
   "metadata": {},
   "outputs": [
    {
     "name": "stdout",
     "output_type": "stream",
     "text": [
      "Total number of passengers: 183\n"
     ]
    }
   ],
   "source": [
    "# 1 How many passengers were there on the Titanic?\n",
    "print(f\"Total number of passengers: {df.shape[0]}\")"
   ]
  },
  {
   "cell_type": "code",
   "execution_count": 38,
   "id": "241eee69-d4ba-4794-b22f-06090d6ea3d2",
   "metadata": {},
   "outputs": [
    {
     "name": "stdout",
     "output_type": "stream",
     "text": [
      "Overall survival rate: 67.213%\n"
     ]
    }
   ],
   "source": [
    "#2 What was the overall survival rate?\n",
    "rate = df[\"Survived\"].mean()\n",
    "rate = rate * 100\n",
    "rate = round(rate,3)\n",
    "print(f\"Overall survival rate: {rate}%\")"
   ]
  },
  {
   "cell_type": "code",
   "execution_count": 41,
   "id": "5c71d812-22e8-4004-a49f-3fcb980a7983",
   "metadata": {},
   "outputs": [
    {
     "name": "stdout",
     "output_type": "stream",
     "text": [
      "Average Age: 36\n"
     ]
    }
   ],
   "source": [
    "#3 What was the average age of passengers?\n",
    "avg = df[\"Age\"].mean()\n",
    "avg = round(avg)\n",
    "print(f\"Average Age: {avg}\")"
   ]
  },
  {
   "cell_type": "code",
   "execution_count": 44,
   "id": "2a5a2994-4bfe-44eb-9675-72f23a178e09",
   "metadata": {},
   "outputs": [
    {
     "name": "stdout",
     "output_type": "stream",
     "text": [
      "Count according to genders: \n",
      "Sex\n",
      "male      95\n",
      "female    88\n",
      "Name: count, dtype: int64\n"
     ]
    }
   ],
   "source": [
    "#4 How many male and female passengers were on board?\n",
    "genders = df[\"Sex\"].value_counts()\n",
    "print(\"Count according to genders: \")\n",
    "print(genders)\n"
   ]
  },
  {
   "cell_type": "code",
   "execution_count": 48,
   "id": "3820b31a-e4aa-42cc-af92-93293dfe39b7",
   "metadata": {},
   "outputs": [
    {
     "name": "stdout",
     "output_type": "stream",
     "text": [
      "Survival Rate by gender: \n",
      "Sex\n",
      "female    93.182\n",
      "male      43.158\n",
      "Name: Survived, dtype: float64\n"
     ]
    }
   ],
   "source": [
    "#5 What was the survival rate by gender?\n",
    "r = df.groupby(\"Sex\")[\"Survived\"].mean()\n",
    "r[\"female\"] = r[\"female\"] * 100\n",
    "r[\"male\"] = r[\"male\"] * 100\n",
    "r[\"female\"] = round(r[\"female\"],3)\n",
    "r[\"male\"] = round(r[\"male\"],3)\n",
    "print(\"Survival Rate by gender: \")\n",
    "print(r)"
   ]
  },
  {
   "cell_type": "code",
   "execution_count": 55,
   "id": "629b6f7e-6638-47f6-a2d6-86306a952225",
   "metadata": {},
   "outputs": [
    {
     "name": "stdout",
     "output_type": "stream",
     "text": [
      "Number of passengers in each class: \n",
      "Pclass\n",
      "1    158\n",
      "2     15\n",
      "3     10\n",
      "Name: count, dtype: int64\n"
     ]
    }
   ],
   "source": [
    "#6 How many passengers were in each class?\n",
    "classcnt = df['Pclass'].value_counts()\n",
    "print(\"Number of passengers in each class: \")\n",
    "print(classcnt)"
   ]
  },
  {
   "cell_type": "code",
   "execution_count": 59,
   "id": "eb9ca9ac-7b16-45c6-bff1-fa65034a14e6",
   "metadata": {},
   "outputs": [
    {
     "name": "stdout",
     "output_type": "stream",
     "text": [
      "Pclass\n",
      "1    67.089\n",
      "2    80.000\n",
      "3    50.000\n",
      "Name: Survived, dtype: float64\n"
     ]
    }
   ],
   "source": [
    "#7 What was the survival rate by class?\n",
    "surcls = df.groupby('Pclass')[\"Survived\"].mean() * 100\n",
    "surcls = surcls.round(3)\n",
    "print(surcls)"
   ]
  },
  {
   "cell_type": "code",
   "execution_count": 61,
   "id": "815454cf-0dce-45e9-a8bb-b32415b80d96",
   "metadata": {},
   "outputs": [
    {
     "name": "stdout",
     "output_type": "stream",
     "text": [
      "Pclass\n",
      "1    8868.0\n",
      "2    1844.0\n",
      "3    1103.0\n",
      "Name: Fare, dtype: float64\n"
     ]
    }
   ],
   "source": [
    "#8 What was the average fare for each class?\n",
    "avg_fare = df.groupby('Pclass')[\"Fare\"].mean() * 100\n",
    "avg_fare = round(avg_fare)\n",
    "print(avg_fare)"
   ]
  },
  {
   "cell_type": "code",
   "execution_count": 62,
   "id": "c37d3681-09b4-47ae-b3fc-652a462df909",
   "metadata": {},
   "outputs": [
    {
     "name": "stdout",
     "output_type": "stream",
     "text": [
      "Number of passengers traveling with family: 104\n"
     ]
    }
   ],
   "source": [
    "#9 How many passengers were traveling with family members (parents, siblings)?\n",
    "with_family = (df['SibSp'] > 0) | (df['Parch'] > 0)\n",
    "\n",
    "# Count passengers by summing the True values\n",
    "count_with_family = with_family.sum()\n",
    "print(f\"Number of passengers traveling with family: {count_with_family}\")\n"
   ]
  },
  {
   "cell_type": "code",
   "execution_count": 64,
   "id": "d561a601-6964-4d23-be5b-a01aa50d07fa",
   "metadata": {},
   "outputs": [
    {
     "name": "stderr",
     "output_type": "stream",
     "text": [
      "C:\\Users\\ha159\\AppData\\Local\\Temp\\ipykernel_8744\\1322467617.py:3: FutureWarning: A value is trying to be set on a copy of a DataFrame or Series through chained assignment using an inplace method.\n",
      "The behavior will change in pandas 3.0. This inplace method will never work because the intermediate object on which we are setting values always behaves as a copy.\n",
      "\n",
      "For example, when doing 'df[col].method(value, inplace=True)', try using 'df.method({col: value}, inplace=True)' or df[col] = df[col].method(value) instead, to perform the operation inplace on the original object.\n",
      "\n",
      "\n",
      "  df['Age'].fillna(df['Age'].mean(), inplace=True)\n",
      "C:\\Users\\ha159\\AppData\\Local\\Temp\\ipykernel_8744\\1322467617.py:6: FutureWarning: A value is trying to be set on a copy of a DataFrame or Series through chained assignment using an inplace method.\n",
      "The behavior will change in pandas 3.0. This inplace method will never work because the intermediate object on which we are setting values always behaves as a copy.\n",
      "\n",
      "For example, when doing 'df[col].method(value, inplace=True)', try using 'df.method({col: value}, inplace=True)' or df[col] = df[col].method(value) instead, to perform the operation inplace on the original object.\n",
      "\n",
      "\n",
      "  df['Cabin'].fillna('Unknown', inplace=True)\n"
     ]
    }
   ],
   "source": [
    "#10 \n",
    "# Fill missing 'Age' values with the mean\n",
    "df['Age'].fillna(df['Age'].mean(), inplace=True)\n",
    "\n",
    "# Fill missing 'Cabin' values with a placeholder\n",
    "df['Cabin'].fillna('Unknown', inplace=True)\n"
   ]
  },
  {
   "cell_type": "code",
   "execution_count": null,
   "id": "bd54a336-cf60-4d95-bd38-4f20de8e0926",
   "metadata": {},
   "outputs": [],
   "source": []
  }
 ],
 "metadata": {
  "kernelspec": {
   "display_name": "Python 3 (ipykernel)",
   "language": "python",
   "name": "python3"
  },
  "language_info": {
   "codemirror_mode": {
    "name": "ipython",
    "version": 3
   },
   "file_extension": ".py",
   "mimetype": "text/x-python",
   "name": "python",
   "nbconvert_exporter": "python",
   "pygments_lexer": "ipython3",
   "version": "3.12.1"
  }
 },
 "nbformat": 4,
 "nbformat_minor": 5
}
