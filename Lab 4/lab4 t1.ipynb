{
 "cells": [
  {
   "cell_type": "code",
   "execution_count": 1,
   "id": "0081cf1c-8813-4a7a-bc55-5da887ab3cb4",
   "metadata": {},
   "outputs": [],
   "source": [
    "from queue import PriorityQueue\n",
    "from itertools import permutations\n",
    "\n",
    "class Node:\n",
    "    def __init__(self, position, parent=None):\n",
    "        self.position = position\n",
    "        self.parent = parent\n",
    "        self.g = 0\n",
    "        self.h = 0\n",
    "        self.f = 0\n",
    "\n",
    "    def __lt__(self, other):\n",
    "        return self.f < other.f\n",
    "\n",
    "\n",
    "\n"
   ]
  },
  {
   "cell_type": "code",
   "execution_count": 2,
   "id": "c45bbb06-d9ad-49b9-bb74-f0623a7c213a",
   "metadata": {},
   "outputs": [],
   "source": [
    "def heuristic(current_pos, end_pos):\n",
    "    return abs(current_pos[0] - end_pos[0]) + abs(current_pos[1] - end_pos[1])\n",
    "\n",
    "def best_first_search(maze, start, end):\n",
    "    rows, cols = len(maze), len(maze[0])\n",
    "    start_node = Node(start)\n",
    "    end_node = Node(end)\n",
    "    frontier = PriorityQueue()\n",
    "    frontier.put(start_node)\n",
    "    visited = set()\n",
    "\n",
    "    while not frontier.empty():\n",
    "        current_node = frontier.get()\n",
    "        current_pos = current_node.position\n",
    "        if current_pos == end:\n",
    "            path = []\n",
    "            while current_node:\n",
    "                path.append(current_node.position)\n",
    "                current_node = current_node.parent\n",
    "            return path[::-1]\n",
    "        visited.add(current_pos)\n",
    "        for dx, dy in [(1, 0), (-1, 0), (0, 1), (0, -1)]:\n",
    "            new_pos = (current_pos[0] + dx, current_pos[1] + dy)\n",
    "            if 0 <= new_pos[0] < rows and 0 <= new_pos[1] < cols and maze[new_pos[0]][new_pos[1]] == 0 and new_pos not in visited:\n",
    "                new_node = Node(new_pos, current_node)\n",
    "                new_node.g = current_node.g + 1\n",
    "                new_node.h = heuristic(new_pos, end)\n",
    "                new_node.f = new_node.h\n",
    "                frontier.put(new_node)\n",
    "                visited.add(new_pos)\n",
    "    return None\n",
    "\n",
    "def find_all_shortest_paths(maze, points):\n",
    "    shortest_paths = {}\n",
    "    for i in range(len(points)):\n",
    "        for j in range(i + 1, len(points)):\n",
    "            path = best_first_search(maze, points[i], points[j])\n",
    "            if path:\n",
    "                shortest_paths[(points[i], points[j])] = path\n",
    "                shortest_paths[(points[j], points[i])] = path[::-1]\n",
    "    return shortest_paths\n",
    "\n",
    "def find_optimal_goal_order(maze, start, goals):\n",
    "    points = [start] + goals\n",
    "    shortest_paths = find_all_shortest_paths(maze, points)\n",
    "    min_path = None\n",
    "    min_distance = float('inf')\n",
    "\n",
    "    for perm in permutations(goals):\n",
    "        total_distance = 0\n",
    "        full_path = []\n",
    "        current = start\n",
    "        for goal in perm:\n",
    "            if (current, goal) in shortest_paths:\n",
    "                total_distance += len(shortest_paths[(current, goal)]) - 1\n",
    "                full_path += shortest_paths[(current, goal)][:-1]\n",
    "            else:\n",
    "                total_distance = float('inf')\n",
    "                break\n",
    "            current = goal\n",
    "        if total_distance < min_distance:\n",
    "            min_distance = total_distance\n",
    "            min_path = full_path + [current]\n",
    "    return min_path"
   ]
  },
  {
   "cell_type": "code",
   "execution_count": 3,
   "id": "9030ddf6-44d8-4aa4-bbac-1efbcb126223",
   "metadata": {},
   "outputs": [
    {
     "name": "stdout",
     "output_type": "stream",
     "text": [
      "Optimized path  [(0, 0), (1, 0), (1, 1), (2, 1), (3, 1), (3, 2), (3, 3), (3, 4), (4, 4)]\n"
     ]
    }
   ],
   "source": [
    "maze = [\n",
    "    [0, 0, 1, 0, 0],\n",
    "    [0, 0, 0, 1, 0],\n",
    "    [1, 0, 1, 0, 1],\n",
    "    [0, 0, 0, 0, 0],\n",
    "    [0, 1, 1, 1, 0]\n",
    "]\n",
    "\n",
    "start = (0, 0)\n",
    "goals = [(2, 1), (3, 4), (4, 4)]\n",
    "path = find_optimal_goal_order(maze, start, goals)\n",
    "\n",
    "if path:\n",
    "    print(\"Optimized path \", path)\n",
    "else:\n",
    "    print(\"No path found\")\n"
   ]
  }
 ],
 "metadata": {
  "kernelspec": {
   "display_name": "Python 3 (ipykernel)",
   "language": "python",
   "name": "python3"
  },
  "language_info": {
   "codemirror_mode": {
    "name": "ipython",
    "version": 3
   },
   "file_extension": ".py",
   "mimetype": "text/x-python",
   "name": "python",
   "nbconvert_exporter": "python",
   "pygments_lexer": "ipython3",
   "version": "3.12.1"
  }
 },
 "nbformat": 4,
 "nbformat_minor": 5
}
