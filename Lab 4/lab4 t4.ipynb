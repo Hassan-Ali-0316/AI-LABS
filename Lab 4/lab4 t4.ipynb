{
 "cells": [
  {
   "cell_type": "code",
   "execution_count": 1,
   "id": "b2be7e95-c44a-4cb7-93e0-099a606786d8",
   "metadata": {},
   "outputs": [],
   "source": [
    "\n",
    "def a_star_search(transaction_graph, heuristic, start, goal):\n",
    "    open_list = []\n",
    "    heapq.heappush(open_list, (heuristic[start], 0, start, []))\n",
    "    visited = set()\n",
    "    while open_list:\n",
    "        _, g, current, path = heapq.heappop(open_list)\n",
    "        if current in visited:\n",
    "            continue\n",
    "        path = path + [current]\n",
    "        visited.add(current)\n",
    "        if current == goal:\n",
    "            return path\n",
    "        for neighbor, cost in transaction_graph.get(current, []):\n",
    "            if neighbor not in visited:\n",
    "                new_g = g + cost\n",
    "                f = new_g + heuristic[neighbor]\n",
    "                heapq.heappush(open_list, (f, new_g, neighbor, path))\n",
    "    return None\n",
    "\n"
   ]
  },
  {
   "cell_type": "code",
   "execution_count": 2,
   "id": "8f1571ac-f0a4-48ae-aaef-4004bdee0224",
   "metadata": {},
   "outputs": [
    {
     "ename": "NameError",
     "evalue": "name 'heapq' is not defined",
     "output_type": "error",
     "traceback": [
      "\u001b[1;31m---------------------------------------------------------------------------\u001b[0m",
      "\u001b[1;31mNameError\u001b[0m                                 Traceback (most recent call last)",
      "Cell \u001b[1;32mIn[2], line 8\u001b[0m\n\u001b[0;32m      5\u001b[0m start_node \u001b[38;5;241m=\u001b[39m \u001b[38;5;124m\"\u001b[39m\u001b[38;5;124mStart\u001b[39m\u001b[38;5;124m\"\u001b[39m\n\u001b[0;32m      6\u001b[0m goal_node \u001b[38;5;241m=\u001b[39m \u001b[38;5;124m\"\u001b[39m\u001b[38;5;124mFraudulent\u001b[39m\u001b[38;5;124m\"\u001b[39m\n\u001b[1;32m----> 8\u001b[0m suspicious_path \u001b[38;5;241m=\u001b[39m \u001b[43ma_star_search\u001b[49m\u001b[43m(\u001b[49m\u001b[43mtransaction_graph\u001b[49m\u001b[43m,\u001b[49m\u001b[43m \u001b[49m\u001b[43mheuristic\u001b[49m\u001b[43m,\u001b[49m\u001b[43m \u001b[49m\u001b[43mstart_node\u001b[49m\u001b[43m,\u001b[49m\u001b[43m \u001b[49m\u001b[43mgoal_node\u001b[49m\u001b[43m)\u001b[49m\n\u001b[0;32m      9\u001b[0m \u001b[38;5;28mprint\u001b[39m(\u001b[38;5;124m\"\u001b[39m\u001b[38;5;124mMost suspicious transaction path\u001b[39m\u001b[38;5;124m\"\u001b[39m, suspicious_path)\n",
      "Cell \u001b[1;32mIn[1], line 3\u001b[0m, in \u001b[0;36ma_star_search\u001b[1;34m(transaction_graph, heuristic, start, goal)\u001b[0m\n\u001b[0;32m      1\u001b[0m \u001b[38;5;28;01mdef\u001b[39;00m \u001b[38;5;21ma_star_search\u001b[39m(transaction_graph, heuristic, start, goal):\n\u001b[0;32m      2\u001b[0m     open_list \u001b[38;5;241m=\u001b[39m []\n\u001b[1;32m----> 3\u001b[0m     \u001b[43mheapq\u001b[49m\u001b[38;5;241m.\u001b[39mheappush(open_list, (heuristic[start], \u001b[38;5;241m0\u001b[39m, start, []))\n\u001b[0;32m      4\u001b[0m     visited \u001b[38;5;241m=\u001b[39m \u001b[38;5;28mset\u001b[39m()\n\u001b[0;32m      5\u001b[0m     \u001b[38;5;28;01mwhile\u001b[39;00m open_list:\n",
      "\u001b[1;31mNameError\u001b[0m: name 'heapq' is not defined"
     ]
    }
   ],
   "source": [
    "transaction_graph = {\"Start\": [(\"Account A\", 3), (\"Account B\", 6)],\"Account A\": [(\"Account C\", 4), (\"Account D\", 5)],\"Account B\": [(\"Account D\", 7), (\"Account E\", 8)],\"Account C\": [(\"Fraudulent\", 2)],\"Account D\": [(\"Fraudulent\", 3)],\"Account E\": [(\"Fraudulent\", 1)]}\n",
    "\n",
    "heuristic = {\"Start\": 7, \"Account A\": 5, \"Account B\": 6, \"Account C\": 2, \"Account D\": 3, \"Account E\": 1, \"Fraudulent\": 0}\n",
    "\n",
    "start_node = \"Start\"\n",
    "goal_node = \"Fraudulent\"\n",
    "\n",
    "suspicious_path = a_star_search(transaction_graph, heuristic, start_node, goal_node)\n",
    "print(\"Most suspicious transaction path\", suspicious_path)\n"
   ]
  },
  {
   "cell_type": "code",
   "execution_count": 3,
   "id": "014d2dc3-e109-418c-b0bb-53b7a9a140ec",
   "metadata": {},
   "outputs": [
    {
     "ename": "NameError",
     "evalue": "name 'heapq' is not defined",
     "output_type": "error",
     "traceback": [
      "\u001b[1;31m---------------------------------------------------------------------------\u001b[0m",
      "\u001b[1;31mNameError\u001b[0m                                 Traceback (most recent call last)",
      "Cell \u001b[1;32mIn[3], line 8\u001b[0m\n\u001b[0;32m      5\u001b[0m start_node \u001b[38;5;241m=\u001b[39m \u001b[38;5;124m\"\u001b[39m\u001b[38;5;124mStart\u001b[39m\u001b[38;5;124m\"\u001b[39m\n\u001b[0;32m      6\u001b[0m goal_node \u001b[38;5;241m=\u001b[39m \u001b[38;5;124m\"\u001b[39m\u001b[38;5;124mFraudulent\u001b[39m\u001b[38;5;124m\"\u001b[39m\n\u001b[1;32m----> 8\u001b[0m suspicious_path \u001b[38;5;241m=\u001b[39m \u001b[43ma_star_search\u001b[49m\u001b[43m(\u001b[49m\u001b[43mtransaction_graph\u001b[49m\u001b[43m,\u001b[49m\u001b[43m \u001b[49m\u001b[43mheuristic\u001b[49m\u001b[43m,\u001b[49m\u001b[43m \u001b[49m\u001b[43mstart_node\u001b[49m\u001b[43m,\u001b[49m\u001b[43m \u001b[49m\u001b[43mgoal_node\u001b[49m\u001b[43m)\u001b[49m\n\u001b[0;32m      9\u001b[0m \u001b[38;5;28mprint\u001b[39m(\u001b[38;5;124m\"\u001b[39m\u001b[38;5;124mMost suspicious transaction path\u001b[39m\u001b[38;5;124m\"\u001b[39m, suspicious_path)\n",
      "Cell \u001b[1;32mIn[1], line 3\u001b[0m, in \u001b[0;36ma_star_search\u001b[1;34m(transaction_graph, heuristic, start, goal)\u001b[0m\n\u001b[0;32m      1\u001b[0m \u001b[38;5;28;01mdef\u001b[39;00m \u001b[38;5;21ma_star_search\u001b[39m(transaction_graph, heuristic, start, goal):\n\u001b[0;32m      2\u001b[0m     open_list \u001b[38;5;241m=\u001b[39m []\n\u001b[1;32m----> 3\u001b[0m     \u001b[43mheapq\u001b[49m\u001b[38;5;241m.\u001b[39mheappush(open_list, (heuristic[start], \u001b[38;5;241m0\u001b[39m, start, []))\n\u001b[0;32m      4\u001b[0m     visited \u001b[38;5;241m=\u001b[39m \u001b[38;5;28mset\u001b[39m()\n\u001b[0;32m      5\u001b[0m     \u001b[38;5;28;01mwhile\u001b[39;00m open_list:\n",
      "\u001b[1;31mNameError\u001b[0m: name 'heapq' is not defined"
     ]
    }
   ],
   "source": [
    "transaction_graph = {\"Start\": [(\"Account A\", 3), (\"Account B\", 6)],\"Account A\": [(\"Account C\", 4), (\"Account D\", 5)],\"Account B\": [(\"Account D\", 7), (\"Account E\", 8)],\"Account C\": [(\"Fraudulent\", 2)],\"Account D\": [(\"Fraudulent\", 3)],\"Account E\": [(\"Fraudulent\", 1)]}\n",
    "\n",
    "heuristic = {\"Start\": 7, \"Account A\": 5, \"Account B\": 6, \"Account C\": 2, \"Account D\": 3, \"Account E\": 1, \"Fraudulent\": 0}\n",
    "\n",
    "start_node = \"Start\"\n",
    "goal_node = \"Fraudulent\"\n",
    "\n",
    "suspicious_path = a_star_search(transaction_graph, heuristic, start_node, goal_node)\n",
    "print(\"Most suspicious transaction path\", suspicious_path)\n"
   ]
  },
  {
   "cell_type": "code",
   "execution_count": null,
   "id": "570f5b8f-28a7-4595-afd0-8f71feffdbe8",
   "metadata": {},
   "outputs": [],
   "source": []
  }
 ],
 "metadata": {
  "kernelspec": {
   "display_name": "Python 3 (ipykernel)",
   "language": "python",
   "name": "python3"
  },
  "language_info": {
   "codemirror_mode": {
    "name": "ipython",
    "version": 3
   },
   "file_extension": ".py",
   "mimetype": "text/x-python",
   "name": "python",
   "nbconvert_exporter": "python",
   "pygments_lexer": "ipython3",
   "version": "3.12.1"
  }
 },
 "nbformat": 4,
 "nbformat_minor": 5
}
