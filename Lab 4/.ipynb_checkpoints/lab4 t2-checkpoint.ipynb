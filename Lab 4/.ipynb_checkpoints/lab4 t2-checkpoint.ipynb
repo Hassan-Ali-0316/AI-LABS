{
 "cells": [
  {
   "cell_type": "code",
   "execution_count": 1,
   "id": "5acea366-1136-4171-938d-627af7fffe0a",
   "metadata": {},
   "outputs": [],
   "source": [
    "import heapq\n",
    "import random\n",
    "import time\n",
    "\n",
    "def a_star_dynamic(graph, start, goal, heuristic):\n",
    "    open_set = []\n",
    "    heapq.heappush(open_set, (0, start))\n",
    "    came_from = {}\n",
    "    g_score = {node: float('inf') for node in graph}\n",
    "    g_score[start] = 0\n",
    "    f_score = {node: float('inf') for node in graph}\n",
    "    f_score[start] = heuristic(start, goal)\n",
    "\n",
    "    while open_set:\n",
    "        _, current = heapq.heappop(open_set)\n",
    "\n",
    "        if current == goal:\n",
    "            return reconstruct_path(came_from, current)\n",
    "\n",
    "        for neighbor in graph[current]:\n",
    "            tentative_g_score = g_score[current] + graph[current][neighbor]\n",
    "\n",
    "            if tentative_g_score < g_score[neighbor]:\n",
    "                came_from[neighbor] = current\n",
    "                g_score[neighbor] = tentative_g_score\n",
    "                f_score[neighbor] = g_score[neighbor] + heuristic(neighbor, goal)\n",
    "                heapq.heappush(open_set, (f_score[neighbor], neighbor))\n",
    "\n",
    "        update_edge_costs(graph)\n",
    "\n",
    "    return None\n",
    "\n",
    "def reconstruct_path(came_from, current):\n",
    "    path = [current]\n",
    "    while current in came_from:\n",
    "        current = came_from[current]\n",
    "        path.append(current)\n",
    "    return path[::-1]\n",
    "\n",
    "def update_edge_costs(graph):\n",
    "    for node in graph:\n",
    "        for neighbor in graph[node]:\n",
    "            if random.random() < 0.3:\n",
    "                graph[node][neighbor] = random.randint(1, 10)\n",
    "\n",
    "def heuristic(node, goal):\n",
    "    return abs(node[0] - goal[0]) + abs(node[1] - goal[1])\n",
    "\n"
   ]
  },
  {
   "cell_type": "code",
   "execution_count": 2,
   "id": "f210a177-b86b-4c33-b751-ca6279337de7",
   "metadata": {},
   "outputs": [
    {
     "name": "stdout",
     "output_type": "stream",
     "text": [
      "Optimal Path [(0, 0), (0, 1), (1, 1)]\n"
     ]
    }
   ],
   "source": [
    "\n",
    "graph = {\n",
    "    (0, 0): {(0, 1): 1, (1, 0): 4},\n",
    "    (0, 1): {(0, 0): 1, (1, 1): 2},\n",
    "    (1, 0): {(0, 0): 4, (1, 1): 3},\n",
    "    (1, 1): {(0, 1): 2, (1, 0): 3}\n",
    "}\n",
    "\n",
    "start = (0, 0)\n",
    "goal = (1, 1)\n",
    "path = a_star_dynamic(graph, start, goal, heuristic)\n",
    "\n",
    "print(\"Optimal Path\", path)"
   ]
  },
  {
   "cell_type": "code",
   "execution_count": null,
   "id": "534f542d-d921-47de-a25e-7eca68125de5",
   "metadata": {},
   "outputs": [],
   "source": []
  }
 ],
 "metadata": {
  "kernelspec": {
   "display_name": "Python 3 (ipykernel)",
   "language": "python",
   "name": "python3"
  },
  "language_info": {
   "codemirror_mode": {
    "name": "ipython",
    "version": 3
   },
   "file_extension": ".py",
   "mimetype": "text/x-python",
   "name": "python",
   "nbconvert_exporter": "python",
   "pygments_lexer": "ipython3",
   "version": "3.12.1"
  }
 },
 "nbformat": 4,
 "nbformat_minor": 5
}
