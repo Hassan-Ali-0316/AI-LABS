{
 "cells": [
  {
   "cell_type": "code",
   "execution_count": 3,
   "id": "3186fd29-0788-455a-873a-03469a6987e8",
   "metadata": {},
   "outputs": [],
   "source": [
    "def distance(a, b):\n",
    "    return ((a[0] - b[0]) ** 2 + (a[1] - b[1]) ** 2) ** 0.5\n",
    "def heuristic(current_time, node, deliveries):\n",
    "    loc, start_time, end_time = deliveries[node]\n",
    "    return distance(loc, (0, 0)) + max(0, current_time - end_time)\n",
    "def greedy_best_first_search(start, deliveries):\n",
    "    priority_queue = []\n",
    "    heapq.heappush(priority_queue, (0, start, 0, []))\n",
    "    visited = set()\n",
    "    while priority_queue:\n",
    "        _, current, current_time, path = heapq.heappop(priority_queue)\n",
    "        if len(path) == len(deliveries):\n",
    "            return path\n",
    "        if current in visited:\n",
    "            continue\n",
    "        visited.add(current)\n",
    "        for neighbor in deliveries:\n",
    "            if neighbor not in visited:\n",
    "                loc, start_time, end_time = deliveries[neighbor]\n",
    "                travel_time = distance(deliveries[current][0], loc)\n",
    "                arrival_time = current_time + travel_time\n",
    "                if arrival_time > end_time:\n",
    "                    continue\n",
    "                waiting_time = max(0, start_time - arrival_time)\n",
    "                new_time = arrival_time + waiting_time\n",
    "                h = heuristic(new_time, neighbor, deliveries)\n",
    "                heapq.heappush(priority_queue, (h, neighbor, new_time, path + [neighbor]))\n",
    "    return None"
   ]
  },
  {
   "cell_type": "code",
   "execution_count": 4,
   "id": "a11aa0aa-8144-4b37-aacc-1a9e85784774",
   "metadata": {},
   "outputs": [
    {
     "ename": "NameError",
     "evalue": "name 'heapq' is not defined",
     "output_type": "error",
     "traceback": [
      "\u001b[1;31m---------------------------------------------------------------------------\u001b[0m",
      "\u001b[1;31mNameError\u001b[0m                                 Traceback (most recent call last)",
      "Cell \u001b[1;32mIn[4], line 9\u001b[0m\n\u001b[0;32m      1\u001b[0m deliveries \u001b[38;5;241m=\u001b[39m {\n\u001b[0;32m      2\u001b[0m     \u001b[38;5;124m'\u001b[39m\u001b[38;5;124mA\u001b[39m\u001b[38;5;124m'\u001b[39m: ((\u001b[38;5;241m2\u001b[39m, \u001b[38;5;241m3\u001b[39m), \u001b[38;5;241m1\u001b[39m, \u001b[38;5;241m10\u001b[39m),\n\u001b[0;32m      3\u001b[0m     \u001b[38;5;124m'\u001b[39m\u001b[38;5;124mB\u001b[39m\u001b[38;5;124m'\u001b[39m: ((\u001b[38;5;241m5\u001b[39m, \u001b[38;5;241m5\u001b[39m), \u001b[38;5;241m3\u001b[39m, \u001b[38;5;241m12\u001b[39m),\n\u001b[0;32m      4\u001b[0m     \u001b[38;5;124m'\u001b[39m\u001b[38;5;124mC\u001b[39m\u001b[38;5;124m'\u001b[39m: ((\u001b[38;5;241m7\u001b[39m, \u001b[38;5;241m8\u001b[39m), \u001b[38;5;241m4\u001b[39m, \u001b[38;5;241m15\u001b[39m),\n\u001b[0;32m      5\u001b[0m     \u001b[38;5;124m'\u001b[39m\u001b[38;5;124mD\u001b[39m\u001b[38;5;124m'\u001b[39m: ((\u001b[38;5;241m1\u001b[39m, \u001b[38;5;241m7\u001b[39m), \u001b[38;5;241m2\u001b[39m, \u001b[38;5;241m9\u001b[39m)\n\u001b[0;32m      6\u001b[0m }\n\u001b[0;32m      8\u001b[0m start_point \u001b[38;5;241m=\u001b[39m \u001b[38;5;124m'\u001b[39m\u001b[38;5;124mA\u001b[39m\u001b[38;5;124m'\u001b[39m\n\u001b[1;32m----> 9\u001b[0m route \u001b[38;5;241m=\u001b[39m \u001b[43mgreedy_best_first_search\u001b[49m\u001b[43m(\u001b[49m\u001b[43mstart_point\u001b[49m\u001b[43m,\u001b[49m\u001b[43m \u001b[49m\u001b[43mdeliveries\u001b[49m\u001b[43m)\u001b[49m\n\u001b[0;32m     10\u001b[0m \u001b[38;5;28mprint\u001b[39m(\u001b[38;5;124m\"\u001b[39m\u001b[38;5;124mOptimized Route\u001b[39m\u001b[38;5;124m\"\u001b[39m, route)\n",
      "Cell \u001b[1;32mIn[3], line 8\u001b[0m, in \u001b[0;36mgreedy_best_first_search\u001b[1;34m(start, deliveries)\u001b[0m\n\u001b[0;32m      6\u001b[0m \u001b[38;5;28;01mdef\u001b[39;00m \u001b[38;5;21mgreedy_best_first_search\u001b[39m(start, deliveries):\n\u001b[0;32m      7\u001b[0m     priority_queue \u001b[38;5;241m=\u001b[39m []\n\u001b[1;32m----> 8\u001b[0m     \u001b[43mheapq\u001b[49m\u001b[38;5;241m.\u001b[39mheappush(priority_queue, (\u001b[38;5;241m0\u001b[39m, start, \u001b[38;5;241m0\u001b[39m, []))\n\u001b[0;32m      9\u001b[0m     visited \u001b[38;5;241m=\u001b[39m \u001b[38;5;28mset\u001b[39m()\n\u001b[0;32m     10\u001b[0m     \u001b[38;5;28;01mwhile\u001b[39;00m priority_queue:\n",
      "\u001b[1;31mNameError\u001b[0m: name 'heapq' is not defined"
     ]
    }
   ],
   "source": [
    "deliveries = {\n",
    "    'A': ((2, 3), 1, 10),\n",
    "    'B': ((5, 5), 3, 12),\n",
    "    'C': ((7, 8), 4, 15),\n",
    "    'D': ((1, 7), 2, 9)\n",
    "}\n",
    "\n",
    "start_point = 'A'\n",
    "route = greedy_best_first_search(start_point, deliveries)\n",
    "print(\"Optimized Route\", route)\n"
   ]
  },
  {
   "cell_type": "code",
   "execution_count": null,
   "id": "1bd08aef-0bbc-4c05-a9ae-7ef1d9e6ebee",
   "metadata": {},
   "outputs": [],
   "source": []
  }
 ],
 "metadata": {
  "kernelspec": {
   "display_name": "Python 3 (ipykernel)",
   "language": "python",
   "name": "python3"
  },
  "language_info": {
   "codemirror_mode": {
    "name": "ipython",
    "version": 3
   },
   "file_extension": ".py",
   "mimetype": "text/x-python",
   "name": "python",
   "nbconvert_exporter": "python",
   "pygments_lexer": "ipython3",
   "version": "3.12.1"
  }
 },
 "nbformat": 4,
 "nbformat_minor": 5
}
