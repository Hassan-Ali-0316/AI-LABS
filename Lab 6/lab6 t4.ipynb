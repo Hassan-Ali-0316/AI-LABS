{
 "cells": [
  {
   "cell_type": "code",
   "execution_count": 2,
   "id": "57e0bd6a-2d60-4925-9299-b4c20716973d",
   "metadata": {},
   "outputs": [
    {
     "ename": "TypeError",
     "evalue": "unsupported operand type(s) for *: 'int' and 'ortools.sat.python.cp_model_helper.BoundedLinearExpression'",
     "output_type": "error",
     "traceback": [
      "\u001b[1;31m---------------------------------------------------------------------------\u001b[0m",
      "\u001b[1;31mTypeError\u001b[0m                                 Traceback (most recent call last)",
      "Cell \u001b[1;32mIn[2], line 49\u001b[0m\n\u001b[0;32m     46\u001b[0m     \u001b[38;5;28;01melse\u001b[39;00m:\n\u001b[0;32m     47\u001b[0m         \u001b[38;5;28mprint\u001b[39m(\u001b[38;5;124m\"\u001b[39m\u001b[38;5;124mNo solution found.\u001b[39m\u001b[38;5;124m\"\u001b[39m)\n\u001b[1;32m---> 49\u001b[0m \u001b[43msolve_warehouse_delivery\u001b[49m\u001b[43m(\u001b[49m\u001b[43m)\u001b[49m\n",
      "Cell \u001b[1;32mIn[2], line 20\u001b[0m, in \u001b[0;36msolve_warehouse_delivery\u001b[1;34m()\u001b[0m\n\u001b[0;32m     16\u001b[0m assign \u001b[38;5;241m=\u001b[39m [model\u001b[38;5;241m.\u001b[39mNewIntVar(\u001b[38;5;241m0\u001b[39m, num_robots \u001b[38;5;241m-\u001b[39m \u001b[38;5;241m1\u001b[39m, \u001b[38;5;124mf\u001b[39m\u001b[38;5;124m'\u001b[39m\u001b[38;5;124massign_p\u001b[39m\u001b[38;5;132;01m{\u001b[39;00mp\u001b[38;5;132;01m}\u001b[39;00m\u001b[38;5;124m'\u001b[39m) \u001b[38;5;28;01mfor\u001b[39;00m p \u001b[38;5;129;01min\u001b[39;00m \u001b[38;5;28mrange\u001b[39m(num_packages)]\n\u001b[0;32m     18\u001b[0m \u001b[38;5;28;01mfor\u001b[39;00m r \u001b[38;5;129;01min\u001b[39;00m \u001b[38;5;28mrange\u001b[39m(num_robots):\n\u001b[0;32m     19\u001b[0m     model\u001b[38;5;241m.\u001b[39mAdd(\n\u001b[1;32m---> 20\u001b[0m         \u001b[38;5;28;43msum\u001b[39;49m\u001b[43m(\u001b[49m\n\u001b[0;32m     21\u001b[0m \u001b[43m            \u001b[49m\u001b[43mpackage_weights\u001b[49m\u001b[43m[\u001b[49m\u001b[43mp\u001b[49m\u001b[43m]\u001b[49m\u001b[43m \u001b[49m\u001b[38;5;241;43m*\u001b[39;49m\u001b[43m \u001b[49m\u001b[43m(\u001b[49m\u001b[43massign\u001b[49m\u001b[43m[\u001b[49m\u001b[43mp\u001b[49m\u001b[43m]\u001b[49m\u001b[43m \u001b[49m\u001b[38;5;241;43m==\u001b[39;49m\u001b[43m \u001b[49m\u001b[43mr\u001b[49m\u001b[43m)\u001b[49m\n\u001b[0;32m     22\u001b[0m \u001b[43m            \u001b[49m\u001b[38;5;28;43;01mfor\u001b[39;49;00m\u001b[43m \u001b[49m\u001b[43mp\u001b[49m\u001b[43m \u001b[49m\u001b[38;5;129;43;01min\u001b[39;49;00m\u001b[43m \u001b[49m\u001b[38;5;28;43mrange\u001b[39;49m\u001b[43m(\u001b[49m\u001b[43mnum_packages\u001b[49m\u001b[43m)\u001b[49m\n\u001b[0;32m     23\u001b[0m \u001b[43m        \u001b[49m\u001b[43m)\u001b[49m \u001b[38;5;241m<\u001b[39m\u001b[38;5;241m=\u001b[39m robot_capacity[r]\n\u001b[0;32m     24\u001b[0m     )\n\u001b[0;32m     26\u001b[0m distances \u001b[38;5;241m=\u001b[39m []\n\u001b[0;32m     27\u001b[0m \u001b[38;5;28;01mfor\u001b[39;00m p \u001b[38;5;129;01min\u001b[39;00m \u001b[38;5;28mrange\u001b[39m(num_packages):\n",
      "Cell \u001b[1;32mIn[2], line 21\u001b[0m, in \u001b[0;36m<genexpr>\u001b[1;34m(.0)\u001b[0m\n\u001b[0;32m     16\u001b[0m assign \u001b[38;5;241m=\u001b[39m [model\u001b[38;5;241m.\u001b[39mNewIntVar(\u001b[38;5;241m0\u001b[39m, num_robots \u001b[38;5;241m-\u001b[39m \u001b[38;5;241m1\u001b[39m, \u001b[38;5;124mf\u001b[39m\u001b[38;5;124m'\u001b[39m\u001b[38;5;124massign_p\u001b[39m\u001b[38;5;132;01m{\u001b[39;00mp\u001b[38;5;132;01m}\u001b[39;00m\u001b[38;5;124m'\u001b[39m) \u001b[38;5;28;01mfor\u001b[39;00m p \u001b[38;5;129;01min\u001b[39;00m \u001b[38;5;28mrange\u001b[39m(num_packages)]\n\u001b[0;32m     18\u001b[0m \u001b[38;5;28;01mfor\u001b[39;00m r \u001b[38;5;129;01min\u001b[39;00m \u001b[38;5;28mrange\u001b[39m(num_robots):\n\u001b[0;32m     19\u001b[0m     model\u001b[38;5;241m.\u001b[39mAdd(\n\u001b[0;32m     20\u001b[0m         \u001b[38;5;28msum\u001b[39m(\n\u001b[1;32m---> 21\u001b[0m             \u001b[43mpackage_weights\u001b[49m\u001b[43m[\u001b[49m\u001b[43mp\u001b[49m\u001b[43m]\u001b[49m\u001b[43m \u001b[49m\u001b[38;5;241;43m*\u001b[39;49m\u001b[43m \u001b[49m\u001b[43m(\u001b[49m\u001b[43massign\u001b[49m\u001b[43m[\u001b[49m\u001b[43mp\u001b[49m\u001b[43m]\u001b[49m\u001b[43m \u001b[49m\u001b[38;5;241;43m==\u001b[39;49m\u001b[43m \u001b[49m\u001b[43mr\u001b[49m\u001b[43m)\u001b[49m\n\u001b[0;32m     22\u001b[0m             \u001b[38;5;28;01mfor\u001b[39;00m p \u001b[38;5;129;01min\u001b[39;00m \u001b[38;5;28mrange\u001b[39m(num_packages)\n\u001b[0;32m     23\u001b[0m         ) \u001b[38;5;241m<\u001b[39m\u001b[38;5;241m=\u001b[39m robot_capacity[r]\n\u001b[0;32m     24\u001b[0m     )\n\u001b[0;32m     26\u001b[0m distances \u001b[38;5;241m=\u001b[39m []\n\u001b[0;32m     27\u001b[0m \u001b[38;5;28;01mfor\u001b[39;00m p \u001b[38;5;129;01min\u001b[39;00m \u001b[38;5;28mrange\u001b[39m(num_packages):\n",
      "\u001b[1;31mTypeError\u001b[0m: unsupported operand type(s) for *: 'int' and 'ortools.sat.python.cp_model_helper.BoundedLinearExpression'"
     ]
    }
   ],
   "source": [
    "from ortools.sat.python import cp_model\n",
    "\n",
    "def solve_warehouse_delivery():\n",
    "    grid_size = 6\n",
    "    num_robots = 5\n",
    "    num_packages = 10\n",
    "\n",
    "    robot_capacity = [15, 10, 20, 12, 18]\n",
    "    package_weights = [5, 3, 7, 6, 4, 2, 5, 6, 3, 4]\n",
    "\n",
    "    package_sources = [(0, 0), (1, 5), (2, 2), (3, 0), (4, 1), (5, 5), (0, 4), (2, 5), (4, 4), (5, 1)]\n",
    "    package_destinations = [(5, 0), (0, 1), (3, 3), (1, 2), (2, 0), (4, 5), (3, 1), (5, 2), (0, 2), (1, 0)]\n",
    "\n",
    "    model = cp_model.CpModel()\n",
    "\n",
    "    assign = [model.NewIntVar(0, num_robots - 1, f'assign_p{p}') for p in range(num_packages)]\n",
    "\n",
    "    for r in range(num_robots):\n",
    "        model.Add(\n",
    "            sum(\n",
    "                package_weights[p] * (assign[p] == r)\n",
    "                for p in range(num_packages)\n",
    "            ) <= robot_capacity[r]\n",
    "        )\n",
    "\n",
    "    distances = []\n",
    "    for p in range(num_packages):\n",
    "        sx, sy = package_sources[p]\n",
    "        dx, dy = package_destinations[p]\n",
    "        dist = abs(sx - dx) + abs(sy - dy)\n",
    "        distances.append(dist)\n",
    "\n",
    "    total_cost = model.NewIntVar(0, 1000, 'total_cost')\n",
    "    model.Add(total_cost == sum(distances[p] for p in range(num_packages)))\n",
    "    model.Minimize(total_cost)\n",
    "\n",
    "    # Solve\n",
    "    solver = cp_model.CpSolver()\n",
    "    status = solver.Solve(model)\n",
    "\n",
    "    if status == cp_model.OPTIMAL or status == cp_model.FEASIBLE:\n",
    "        print(f\"Total delivery cost (simplified): {solver.Value(total_cost)}\")\n",
    "        for p in range(num_packages):\n",
    "            robot_id = solver.Value(assign[p])\n",
    "            print(f\"Package {p} (weight {package_weights[p]}) assigned to Robot {robot_id}\")\n",
    "    else:\n",
    "        print(\"No solution found.\")\n",
    "\n",
    "solve_warehouse_delivery()\n"
   ]
  },
  {
   "cell_type": "code",
   "execution_count": null,
   "id": "1bb40d9f-4fb0-4d81-8ade-a8a94d5a61af",
   "metadata": {},
   "outputs": [],
   "source": []
  }
 ],
 "metadata": {
  "kernelspec": {
   "display_name": "Python 3 (ipykernel)",
   "language": "python",
   "name": "python3"
  },
  "language_info": {
   "codemirror_mode": {
    "name": "ipython",
    "version": 3
   },
   "file_extension": ".py",
   "mimetype": "text/x-python",
   "name": "python",
   "nbconvert_exporter": "python",
   "pygments_lexer": "ipython3",
   "version": "3.12.1"
  }
 },
 "nbformat": 4,
 "nbformat_minor": 5
}
