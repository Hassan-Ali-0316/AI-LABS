{
 "cells": [
  {
   "cell_type": "code",
   "execution_count": 4,
   "id": "533115f5-63e0-495a-9480-13ad23f4191f",
   "metadata": {},
   "outputs": [
    {
     "name": "stdout",
     "output_type": "stream",
     "text": [
      "compputed perimeter:  22\n"
     ]
    }
   ],
   "source": [
    "from ortools.sat.python import cp_model\n",
    "\n",
    "def compute(grid):\n",
    "    rows = len(grid)\n",
    "    cols = len(grid[0])\n",
    "\n",
    "    model = cp_model.CpModel()\n",
    "    perimeter_edges = []\n",
    "\n",
    "\n",
    "    for i in range(rows):\n",
    "        for j in range(cols):\n",
    "            if grid[i][j] == 1:\n",
    "                for dx,dy in [(-1,0),(1,0),(0,-1),(0,1)]:\n",
    "                    ni,nj = i+dx, j+dy\n",
    "                    if ni<0 or ni>=rows or nj<0 or nj>= cols or grid[ni][nj] == 0:\n",
    "                        edge = model.NewIntVar(1,1,f'edge_{i}_{j}_{dx}_{dy}')\n",
    "                        perimeter_edges.append(edge)\n",
    "\n",
    "\n",
    "    perimeter = model.NewIntVar(0,len(perimeter_edges), 'total_perimeter')\n",
    "    model.Add(perimeter == sum(perimeter_edges))\n",
    "\n",
    "    solver = cp_model.CpSolver()\n",
    "    status = solver.Solve(model)\n",
    "\n",
    "    if status == cp_model.OPTIMAL or status == cp_model.FEASIBLE:\n",
    "        print('compputed perimeter: ', solver.Value(perimeter))\n",
    "    else:\n",
    "        print('No sol')\n",
    "\n",
    "grid = [\n",
    "    [0, 1, 0, 0, 0],\n",
    "    [1, 1, 1, 0, 0],\n",
    "    [0, 1, 0, 0, 1],\n",
    "    [0, 1, 0, 1, 1],\n",
    "    [0, 0, 0, 0, 0]\n",
    "]\n",
    "\n",
    "compute(grid)"
   ]
  },
  {
   "cell_type": "code",
   "execution_count": null,
   "id": "31aede7b-c3da-4cd5-87be-e5617e6986c7",
   "metadata": {},
   "outputs": [],
   "source": []
  }
 ],
 "metadata": {
  "kernelspec": {
   "display_name": "Python 3 (ipykernel)",
   "language": "python",
   "name": "python3"
  },
  "language_info": {
   "codemirror_mode": {
    "name": "ipython",
    "version": 3
   },
   "file_extension": ".py",
   "mimetype": "text/x-python",
   "name": "python",
   "nbconvert_exporter": "python",
   "pygments_lexer": "ipython3",
   "version": "3.12.1"
  }
 },
 "nbformat": 4,
 "nbformat_minor": 5
}
