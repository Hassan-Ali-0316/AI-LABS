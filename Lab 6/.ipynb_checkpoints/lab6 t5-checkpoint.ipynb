{
 "cells": [
  {
   "cell_type": "code",
   "execution_count": 1,
   "id": "59f313c7-2f9e-4f30-a83e-1bd65bb7e079",
   "metadata": {},
   "outputs": [
    {
     "name": "stdout",
     "output_type": "stream",
     "text": [
      "load C:\\Users\\ha159\\AppData\\Local\\Programs\\Python\\Python312\\Lib\\site-packages\\ortools\\.libs\\zlib1.dll...\n",
      "load C:\\Users\\ha159\\AppData\\Local\\Programs\\Python\\Python312\\Lib\\site-packages\\ortools\\.libs\\abseil_dll.dll...\n",
      "load C:\\Users\\ha159\\AppData\\Local\\Programs\\Python\\Python312\\Lib\\site-packages\\ortools\\.libs\\utf8_validity.dll...\n",
      "load C:\\Users\\ha159\\AppData\\Local\\Programs\\Python\\Python312\\Lib\\site-packages\\ortools\\.libs\\re2.dll...\n",
      "load C:\\Users\\ha159\\AppData\\Local\\Programs\\Python\\Python312\\Lib\\site-packages\\ortools\\.libs\\libprotobuf.dll...\n",
      "load C:\\Users\\ha159\\AppData\\Local\\Programs\\Python\\Python312\\Lib\\site-packages\\ortools\\.libs\\highs.dll...\n",
      "load C:\\Users\\ha159\\AppData\\Local\\Programs\\Python\\Python312\\Lib\\site-packages\\ortools\\.libs\\ortools.dll...\n"
     ]
    },
    {
     "ename": "NotImplementedError",
     "evalue": "calling %% on a linear expression is not supported, please use CpModel.add_modulo_equality",
     "output_type": "error",
     "traceback": [
      "\u001b[1;31m---------------------------------------------------------------------------\u001b[0m",
      "\u001b[1;31mNotImplementedError\u001b[0m                       Traceback (most recent call last)",
      "Cell \u001b[1;32mIn[1], line 65\u001b[0m\n\u001b[0;32m     51\u001b[0m         \u001b[38;5;28mprint\u001b[39m(\u001b[38;5;124m\"\u001b[39m\u001b[38;5;124mNo solution found.\u001b[39m\u001b[38;5;124m\"\u001b[39m)\n\u001b[0;32m     53\u001b[0m initial_grid \u001b[38;5;241m=\u001b[39m [\n\u001b[0;32m     54\u001b[0m     [\u001b[38;5;241m0\u001b[39m, \u001b[38;5;241m0\u001b[39m, \u001b[38;5;241m0\u001b[39m, \u001b[38;5;241m2\u001b[39m, \u001b[38;5;241m6\u001b[39m, \u001b[38;5;241m0\u001b[39m, \u001b[38;5;241m7\u001b[39m, \u001b[38;5;241m0\u001b[39m, \u001b[38;5;241m1\u001b[39m],\n\u001b[0;32m     55\u001b[0m     [\u001b[38;5;241m6\u001b[39m, \u001b[38;5;241m8\u001b[39m, \u001b[38;5;241m0\u001b[39m, \u001b[38;5;241m0\u001b[39m, \u001b[38;5;241m7\u001b[39m, \u001b[38;5;241m0\u001b[39m, \u001b[38;5;241m0\u001b[39m, \u001b[38;5;241m9\u001b[39m, \u001b[38;5;241m0\u001b[39m],\n\u001b[1;32m   (...)\u001b[0m\n\u001b[0;32m     62\u001b[0m     [\u001b[38;5;241m7\u001b[39m, \u001b[38;5;241m0\u001b[39m, \u001b[38;5;241m3\u001b[39m, \u001b[38;5;241m0\u001b[39m, \u001b[38;5;241m1\u001b[39m, \u001b[38;5;241m8\u001b[39m, \u001b[38;5;241m0\u001b[39m, \u001b[38;5;241m0\u001b[39m, \u001b[38;5;241m0\u001b[39m]\n\u001b[0;32m     63\u001b[0m ]\n\u001b[1;32m---> 65\u001b[0m \u001b[43msolve_enhanced_sudoku\u001b[49m\u001b[43m(\u001b[49m\u001b[43minitial_grid\u001b[49m\u001b[43m)\u001b[49m\n",
      "Cell \u001b[1;32mIn[1], line 28\u001b[0m, in \u001b[0;36msolve_enhanced_sudoku\u001b[1;34m(grid)\u001b[0m\n\u001b[0;32m     26\u001b[0m main_diag \u001b[38;5;241m=\u001b[39m [cells[i][i] \u001b[38;5;28;01mfor\u001b[39;00m i \u001b[38;5;129;01min\u001b[39;00m \u001b[38;5;28mrange\u001b[39m(size)]\n\u001b[0;32m     27\u001b[0m anti_diag \u001b[38;5;241m=\u001b[39m [cells[i][size \u001b[38;5;241m-\u001b[39m \u001b[38;5;241m1\u001b[39m \u001b[38;5;241m-\u001b[39m i] \u001b[38;5;28;01mfor\u001b[39;00m i \u001b[38;5;129;01min\u001b[39;00m \u001b[38;5;28mrange\u001b[39m(size)]\n\u001b[1;32m---> 28\u001b[0m model\u001b[38;5;241m.\u001b[39mAdd(\u001b[38;5;28;43msum\u001b[39;49m\u001b[43m(\u001b[49m\u001b[43mmain_diag\u001b[49m\u001b[43m)\u001b[49m\u001b[43m \u001b[49m\u001b[38;5;241;43m%\u001b[39;49m\u001b[43m \u001b[49m\u001b[38;5;241;43m3\u001b[39;49m \u001b[38;5;241m==\u001b[39m \u001b[38;5;241m0\u001b[39m)\n\u001b[0;32m     29\u001b[0m model\u001b[38;5;241m.\u001b[39mAdd(\u001b[38;5;28msum\u001b[39m(anti_diag) \u001b[38;5;241m%\u001b[39m \u001b[38;5;241m3\u001b[39m \u001b[38;5;241m==\u001b[39m \u001b[38;5;241m0\u001b[39m)\n\u001b[0;32m     31\u001b[0m \u001b[38;5;28;01mfor\u001b[39;00m i \u001b[38;5;129;01min\u001b[39;00m \u001b[38;5;28mrange\u001b[39m(size):\n",
      "\u001b[1;31mNotImplementedError\u001b[0m: calling %% on a linear expression is not supported, please use CpModel.add_modulo_equality"
     ]
    }
   ],
   "source": [
    "from ortools.sat.python import cp_model\n",
    "\n",
    "def solve_enhanced_sudoku(grid):\n",
    "    model = cp_model.CpModel()\n",
    "    size = 9\n",
    "    primes = {2, 3, 5, 7}\n",
    "\n",
    "    # Variables\n",
    "    cells = [[model.NewIntVar(1, 9, f'cell_{i}_{j}') for j in range(size)] for i in range(size)]\n",
    "\n",
    "    # Pre-filled values\n",
    "    for i in range(size):\n",
    "        for j in range(size):\n",
    "            if grid[i][j] != 0:\n",
    "                model.Add(cells[i][j] == grid[i][j])\n",
    "\n",
    "    for i in range(size):\n",
    "        model.AddAllDifferent(cells[i])  # rows\n",
    "        model.AddAllDifferent([cells[j][i] for j in range(size)])  # columns\n",
    "\n",
    "    for block_i in range(0, size, 3):\n",
    "        for block_j in range(0, size, 3):\n",
    "            block = [cells[i][j] for i in range(block_i, block_i+3) for j in range(block_j, block_j+3)]\n",
    "            model.AddAllDifferent(block)\n",
    "\n",
    "    main_diag = [cells[i][i] for i in range(size)]\n",
    "    anti_diag = [cells[i][size - 1 - i] for i in range(size)]\n",
    "    model.Add(sum(main_diag) % 3 == 0)\n",
    "    model.Add(sum(anti_diag) % 3 == 0)\n",
    "\n",
    "    for i in range(size):\n",
    "        for j in range(size):\n",
    "            for di, dj in [(-1, 0), (1, 0), (0, -1), (0, 1)]:\n",
    "                ni, nj = i + di, j + dj\n",
    "                if 0 <= ni < size and 0 <= nj < size:\n",
    "                    for p1 in primes:\n",
    "                        for p2 in primes:\n",
    "                            model.AddBoolOr([\n",
    "                                cells[i][j] != p1,\n",
    "                                cells[ni][nj] != p2\n",
    "                            ])\n",
    "\n",
    "    solver = cp_model.CpSolver()\n",
    "    status = solver.Solve(model)\n",
    "\n",
    "    if status in [cp_model.FEASIBLE, cp_model.OPTIMAL]:\n",
    "        print(\"Enhanced Sudoku Solution:\")\n",
    "        for i in range(size):\n",
    "            print([solver.Value(cells[i][j]) for j in range(size)])\n",
    "    else:\n",
    "        print(\"No solution found.\")\n",
    "\n",
    "initial_grid = [\n",
    "    [0, 0, 0, 2, 6, 0, 7, 0, 1],\n",
    "    [6, 8, 0, 0, 7, 0, 0, 9, 0],\n",
    "    [1, 9, 0, 0, 0, 4, 5, 0, 0],\n",
    "    [8, 2, 0, 1, 0, 0, 0, 4, 0],\n",
    "    [0, 0, 4, 6, 0, 2, 9, 0, 0],\n",
    "    [0, 5, 0, 0, 0, 3, 0, 2, 8],\n",
    "    [0, 0, 9, 3, 0, 0, 0, 7, 4],\n",
    "    [0, 4, 0, 0, 5, 0, 0, 3, 6],\n",
    "    [7, 0, 3, 0, 1, 8, 0, 0, 0]\n",
    "]\n",
    "\n",
    "solve_enhanced_sudoku(initial_grid)\n"
   ]
  },
  {
   "cell_type": "code",
   "execution_count": null,
   "id": "a92644f4-9f79-44d4-9dc0-5bd46d6bf81d",
   "metadata": {},
   "outputs": [],
   "source": []
  }
 ],
 "metadata": {
  "kernelspec": {
   "display_name": "Python 3 (ipykernel)",
   "language": "python",
   "name": "python3"
  },
  "language_info": {
   "codemirror_mode": {
    "name": "ipython",
    "version": 3
   },
   "file_extension": ".py",
   "mimetype": "text/x-python",
   "name": "python",
   "nbconvert_exporter": "python",
   "pygments_lexer": "ipython3",
   "version": "3.12.1"
  }
 },
 "nbformat": 4,
 "nbformat_minor": 5
}
