{
 "cells": [
  {
   "cell_type": "code",
   "execution_count": 2,
   "id": "8e81f273-4b07-407e-b550-282980ea56ec",
   "metadata": {},
   "outputs": [
    {
     "name": "stdout",
     "output_type": "stream",
     "text": [
      "Optimal Route:\n",
      "0 -->  3 -->  1 -->  7 -->  9 -->  6 -->  4 -->  5 -->  8 -->  2 -->  0\n",
      "Total Distance: 233\n"
     ]
    }
   ],
   "source": [
    "from ortools.constraint_solver import pywrapcp, routing_enums_pb2\n",
    "import random\n",
    "\n",
    "def create_data_model():\n",
    "    num_cities = 10\n",
    "    random.seed(42)  \n",
    "\n",
    "    distance_matrix = [[0]*num_cities for _ in range(num_cities)]\n",
    "    for i in range(num_cities):\n",
    "        for j in range(i + 1, num_cities):\n",
    "            dist = random.randint(10, 100)\n",
    "            distance_matrix[i][j] = dist\n",
    "            distance_matrix[j][i] = dist\n",
    "\n",
    "    return {\n",
    "        'distance_matrix': distance_matrix,\n",
    "        'num_vehicles': 1,\n",
    "        'depot': 0  # Start at city 0\n",
    "    }\n",
    "\n",
    "def solve_tsp():\n",
    "    data = create_data_model()\n",
    "\n",
    "    manager = pywrapcp.RoutingIndexManager(\n",
    "        len(data['distance_matrix']), data['num_vehicles'], data['depot'])\n",
    "\n",
    "    routing = pywrapcp.RoutingModel(manager)\n",
    "\n",
    "    # Cost callback\n",
    "    def distance_callback(from_index, to_index):\n",
    "        from_node = manager.IndexToNode(from_index)\n",
    "        to_node = manager.IndexToNode(to_index)\n",
    "        return data['distance_matrix'][from_node][to_node]\n",
    "\n",
    "    transit_callback_index = routing.RegisterTransitCallback(distance_callback)\n",
    "\n",
    "    routing.SetArcCostEvaluatorOfAllVehicles(transit_callback_index)\n",
    "\n",
    "    # TSP parameters\n",
    "    search_parameters = pywrapcp.DefaultRoutingSearchParameters()\n",
    "    search_parameters.first_solution_strategy = (\n",
    "        routing_enums_pb2.FirstSolutionStrategy.PATH_CHEAPEST_ARC)\n",
    "\n",
    "    # Solve\n",
    "    solution = routing.SolveWithParameters(search_parameters)\n",
    "\n",
    "    if solution:\n",
    "        print(\"Optimal Route:\")\n",
    "        index = routing.Start(0)\n",
    "        route = []\n",
    "        route_distance = 0\n",
    "        while not routing.IsEnd(index):\n",
    "            node = manager.IndexToNode(index)\n",
    "            route.append(node)\n",
    "            prev_index = index\n",
    "            index = solution.Value(routing.NextVar(index))\n",
    "            route_distance += routing.GetArcCostForVehicle(prev_index, index, 0)\n",
    "        route.append(manager.IndexToNode(index))  # return to depot\n",
    "        print(\" -->  \".join(map(str, route)))\n",
    "        print(\"Total Distance:\", route_distance)\n",
    "    else:\n",
    "        print(\"No solution found.\")\n",
    "\n",
    "solve_tsp()\n"
   ]
  },
  {
   "cell_type": "code",
   "execution_count": null,
   "id": "f8655229-5048-428c-bd92-d5a0dd9fdd4c",
   "metadata": {},
   "outputs": [],
   "source": []
  }
 ],
 "metadata": {
  "kernelspec": {
   "display_name": "Python 3 (ipykernel)",
   "language": "python",
   "name": "python3"
  },
  "language_info": {
   "codemirror_mode": {
    "name": "ipython",
    "version": 3
   },
   "file_extension": ".py",
   "mimetype": "text/x-python",
   "name": "python",
   "nbconvert_exporter": "python",
   "pygments_lexer": "ipython3",
   "version": "3.12.1"
  }
 },
 "nbformat": 4,
 "nbformat_minor": 5
}
