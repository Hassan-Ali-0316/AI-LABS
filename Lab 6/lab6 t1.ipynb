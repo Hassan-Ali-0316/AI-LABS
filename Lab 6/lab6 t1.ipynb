{
 "cells": [
  {
   "cell_type": "code",
   "execution_count": 1,
   "id": "a6605a16-bda9-45c1-9e7d-5de2e1091932",
   "metadata": {},
   "outputs": [
    {
     "name": "stdout",
     "output_type": "stream",
     "text": [
      "22K-4637\n"
     ]
    }
   ],
   "source": [
    "print('22K-4637')"
   ]
  },
  {
   "cell_type": "code",
   "execution_count": null,
   "id": "98ead48c-6ee4-46b2-a3a5-87a6002d2e88",
   "metadata": {},
   "outputs": [],
   "source": [
    "# variables : Each step in the path\n",
    "# domains : Diagonal Negihbours i.e (x-1,y-1) , (x-1,y+1) , (x+1,y-1) , (x+1,y-1)\n",
    "# constraints : \n",
    "                 # 1 No obstacle constraint\n",
    "                 # 2 Valid move constraint\n",
    "                 # 3 Path continuity\n",
    "\n"
   ]
  },
  {
   "cell_type": "code",
   "execution_count": 2,
   "id": "22c7b2b4-a91d-49aa-a73e-33d3a78b7e8b",
   "metadata": {},
   "outputs": [
    {
     "name": "stdout",
     "output_type": "stream",
     "text": [
      "load C:\\Users\\ha159\\AppData\\Local\\Programs\\Python\\Python312\\Lib\\site-packages\\ortools\\.libs\\zlib1.dll...\n",
      "load C:\\Users\\ha159\\AppData\\Local\\Programs\\Python\\Python312\\Lib\\site-packages\\ortools\\.libs\\abseil_dll.dll...\n",
      "load C:\\Users\\ha159\\AppData\\Local\\Programs\\Python\\Python312\\Lib\\site-packages\\ortools\\.libs\\utf8_validity.dll...\n",
      "load C:\\Users\\ha159\\AppData\\Local\\Programs\\Python\\Python312\\Lib\\site-packages\\ortools\\.libs\\re2.dll...\n",
      "load C:\\Users\\ha159\\AppData\\Local\\Programs\\Python\\Python312\\Lib\\site-packages\\ortools\\.libs\\libprotobuf.dll...\n",
      "load C:\\Users\\ha159\\AppData\\Local\\Programs\\Python\\Python312\\Lib\\site-packages\\ortools\\.libs\\highs.dll...\n",
      "load C:\\Users\\ha159\\AppData\\Local\\Programs\\Python\\Python312\\Lib\\site-packages\\ortools\\.libs\\ortools.dll...\n"
     ]
    }
   ],
   "source": [
    "from ortools.constraint_solver import routing_enums_pb2\n",
    "from ortools.constraint_solver import pywrapcp\n",
    "import math\n",
    "\n",
    "def create_data_model():\n",
    "    data = {}\n",
    "    grid_size = 5\n",
    "    start = (1, 1)\n",
    "    end = (4, 4)\n",
    "    obstacles = set([\n",
    "        (2, 2), (3, 3)\n",
    "    ])\n",
    "\n",
    "    nodes = []\n",
    "    pos_to_idx = {}\n",
    "    idx_to_pos = {}\n",
    "    index = 0\n",
    "    for x in range(grid_size):\n",
    "        for y in range(grid_size):\n",
    "            if (x, y) not in obstacles:\n",
    "                pos_to_idx[(x, y)] = index\n",
    "                idx_to_pos[index] = (x, y)\n",
    "                nodes.append((x, y))\n",
    "                index += 1\n",
    "\n",
    "    size = len(nodes)\n",
    "    dist_matrix = [[999999 for _ in range(size)] for _ in range(size)]\n",
    "    for i in range(size):\n",
    "        for j in range(size):\n",
    "            x1, y1 = nodes[i]\n",
    "            x2, y2 = nodes[j]\n",
    "            if abs(x1 - x2) == 1 and abs(y1 - y2) == 1:\n",
    "                dist_matrix[i][j] = math.sqrt(2)\n",
    "\n",
    "    data['distance_matrix'] = dist_matrix\n",
    "    data['start_index'] = pos_to_idx[start]\n",
    "    data['end_index'] = pos_to_idx[end]\n",
    "    data['num_nodes'] = len(nodes)\n",
    "    data['idx_to_pos'] = idx_to_pos\n",
    "    return data\n",
    "\n",
    "def solve_diagonal_path():\n",
    "    data = create_data_model()\n",
    "\n",
    "    manager = pywrapcp.RoutingIndexManager(\n",
    "    data['num_nodes'], 1, [data['start_index']], [data['end_index']]\n",
    "    )\n",
    "\n",
    "    routing = pywrapcp.RoutingModel(manager)\n",
    "\n",
    "    def distance_callback(from_index, to_index):\n",
    "        from_node = manager.IndexToNode(from_index)\n",
    "        to_node = manager.IndexToNode(to_index)\n",
    "        return int(data['distance_matrix'][from_node][to_node] * 1000)  # scale to int\n",
    "\n",
    "    transit_callback_index = routing.RegisterTransitCallback(distance_callback)\n",
    "\n",
    "    routing.SetArcCostEvaluatorOfAllVehicles(transit_callback_index)\n",
    "\n",
    "    routing.AddDisjunction([i for i in range(data['num_nodes'])], 999999)\n",
    "\n",
    "    search_parameters = pywrapcp.DefaultRoutingSearchParameters()\n",
    "    search_parameters.first_solution_strategy = (\n",
    "        routing_enums_pb2.FirstSolutionStrategy.PATH_CHEAPEST_ARC)\n",
    "\n",
    "    solution = routing.SolveWithParameters(search_parameters)\n",
    "\n",
    "    if solution:\n",
    "        index = routing.Start(0)\n",
    "        path = []\n",
    "        while not routing.IsEnd(index):\n",
    "            node = manager.IndexToNode(index)\n",
    "            path.append(data['idx_to_pos'][node])\n",
    "            index = solution.Value(routing.NextVar(index))\n",
    "        path.append(data['idx_to_pos'][manager.IndexToNode(index)])\n",
    "        return path\n",
    "    else:\n",
    "        return None\n"
   ]
  },
  {
   "cell_type": "code",
   "execution_count": null,
   "id": "106cf94a-e0bd-4bf8-a057-ae9cd50134fe",
   "metadata": {},
   "outputs": [],
   "source": [
    "path = solve_diagonal_path()\n",
    "if path:\n",
    "    print(\"Shortest Diagonal Path:\")\n",
    "    for step in path:\n",
    "        print(step)\n",
    "else:\n",
    "    print(\"No valid path found.\")\n"
   ]
  },
  {
   "cell_type": "code",
   "execution_count": null,
   "id": "10d34f12-1091-44b4-a6ae-dd1d07568696",
   "metadata": {},
   "outputs": [],
   "source": []
  },
  {
   "cell_type": "code",
   "execution_count": null,
   "id": "2f8babe4-e6fb-4cb6-b5a9-d98dd41c5991",
   "metadata": {},
   "outputs": [],
   "source": []
  },
  {
   "cell_type": "code",
   "execution_count": null,
   "id": "c46dea86-2089-40e9-a0c9-5ed071ab54b0",
   "metadata": {},
   "outputs": [],
   "source": []
  }
 ],
 "metadata": {
  "kernelspec": {
   "display_name": "Python 3 (ipykernel)",
   "language": "python",
   "name": "python3"
  },
  "language_info": {
   "codemirror_mode": {
    "name": "ipython",
    "version": 3
   },
   "file_extension": ".py",
   "mimetype": "text/x-python",
   "name": "python",
   "nbconvert_exporter": "python",
   "pygments_lexer": "ipython3",
   "version": "3.12.1"
  }
 },
 "nbformat": 4,
 "nbformat_minor": 5
}
