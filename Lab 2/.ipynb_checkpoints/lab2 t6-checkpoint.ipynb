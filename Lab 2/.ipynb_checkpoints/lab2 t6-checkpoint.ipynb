{
 "cells": [
  {
   "cell_type": "code",
   "execution_count": 16,
   "id": "65e85c16-3004-4711-807a-78475babb8e3",
   "metadata": {},
   "outputs": [],
   "source": [
    "def display(building):\n",
    "    i = 0\n",
    "    for room, status in building.items():\n",
    "        if status == 'Fire':\n",
    "            print(\"🔥\", end=' ')\n",
    "        else:\n",
    "            print(\"✔️\", end=' ')\n",
    "        i += 1\n",
    "        if i % 3 == 0:\n",
    "            print('')"
   ]
  },
  {
   "cell_type": "code",
   "execution_count": 21,
   "id": "4fe1758a-c3c0-409f-a92d-149f4fe688db",
   "metadata": {},
   "outputs": [],
   "source": [
    "def move_and_save(building):\n",
    "    for room,status in building.items():\n",
    "        print('')\n",
    "        print(f'Robot is in room {room}')\n",
    "        if status == 'Fire':\n",
    "            print(f\"Fire detected in room {room}! Extinguishing...\")\n",
    "            building[room] = 'Safe'\n",
    "        display(building)"
   ]
  },
  {
   "cell_type": "code",
   "execution_count": 22,
   "id": "e27385f6-e3b9-482d-bba9-63015c454fb6",
   "metadata": {},
   "outputs": [
    {
     "name": "stdout",
     "output_type": "stream",
     "text": [
      "Robot is now starting operation\n",
      "\n",
      "Initial Status\n",
      "✔️ ✔️ 🔥 \n",
      "✔️ 🔥 ✔️ \n",
      "✔️ ✔️ 🔥 \n",
      "\n",
      "Robot is in room a\n",
      "✔️ ✔️ 🔥 \n",
      "✔️ 🔥 ✔️ \n",
      "✔️ ✔️ 🔥 \n",
      "\n",
      "Robot is in room b\n",
      "✔️ ✔️ 🔥 \n",
      "✔️ 🔥 ✔️ \n",
      "✔️ ✔️ 🔥 \n",
      "\n",
      "Robot is in room c\n",
      "Fire detected in room c! Extinguishing...\n",
      "✔️ ✔️ ✔️ \n",
      "✔️ 🔥 ✔️ \n",
      "✔️ ✔️ 🔥 \n",
      "\n",
      "Robot is in room d\n",
      "✔️ ✔️ ✔️ \n",
      "✔️ 🔥 ✔️ \n",
      "✔️ ✔️ 🔥 \n",
      "\n",
      "Robot is in room e\n",
      "Fire detected in room e! Extinguishing...\n",
      "✔️ ✔️ ✔️ \n",
      "✔️ ✔️ ✔️ \n",
      "✔️ ✔️ 🔥 \n",
      "\n",
      "Robot is in room f\n",
      "✔️ ✔️ ✔️ \n",
      "✔️ ✔️ ✔️ \n",
      "✔️ ✔️ 🔥 \n",
      "\n",
      "Robot is in room g\n",
      "✔️ ✔️ ✔️ \n",
      "✔️ ✔️ ✔️ \n",
      "✔️ ✔️ 🔥 \n",
      "\n",
      "Robot is in room h\n",
      "✔️ ✔️ ✔️ \n",
      "✔️ ✔️ ✔️ \n",
      "✔️ ✔️ 🔥 \n",
      "\n",
      "Robot is in room j\n",
      "Fire detected in room j! Extinguishing...\n",
      "✔️ ✔️ ✔️ \n",
      "✔️ ✔️ ✔️ \n",
      "✔️ ✔️ ✔️ \n",
      "\n",
      "final status\n",
      "✔️ ✔️ ✔️ \n",
      "✔️ ✔️ ✔️ \n",
      "✔️ ✔️ ✔️ \n"
     ]
    }
   ],
   "source": [
    "building = {\n",
    "    'a': \"Safe\", 'b': \"Safe\", 'c': \"Fire\",\n",
    "    'd': \"Safe\", 'e': \"Fire\", 'f': \"Safe\",\n",
    "    'g': \"Safe\", 'h': \"Safe\", 'j': \"Fire\"\n",
    "}\n",
    "\n",
    "print(\"Robot is now starting operation\")\n",
    "print('')\n",
    "print('Initial Status')\n",
    "display(building)\n",
    "move_and_save(building)\n",
    "print('')\n",
    "print('final status')\n",
    "display(building)"
   ]
  },
  {
   "cell_type": "code",
   "execution_count": null,
   "id": "a03f5735-8ef4-4dd1-89e8-06aa4f39bbdf",
   "metadata": {},
   "outputs": [],
   "source": []
  }
 ],
 "metadata": {
  "kernelspec": {
   "display_name": "Python 3 (ipykernel)",
   "language": "python",
   "name": "python3"
  },
  "language_info": {
   "codemirror_mode": {
    "name": "ipython",
    "version": 3
   },
   "file_extension": ".py",
   "mimetype": "text/x-python",
   "name": "python",
   "nbconvert_exporter": "python",
   "pygments_lexer": "ipython3",
   "version": "3.12.1"
  }
 },
 "nbformat": 4,
 "nbformat_minor": 5
}
