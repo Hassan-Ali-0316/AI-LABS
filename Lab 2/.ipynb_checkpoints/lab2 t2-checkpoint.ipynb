{
 "cells": [
  {
   "cell_type": "code",
   "execution_count": 28,
   "id": "89c64b8d-79fd-45b0-9004-00fcfc3922f3",
   "metadata": {},
   "outputs": [],
   "source": [
    "class UtilityBased:\n",
    "    def __init__(self):\n",
    "        self.servers = {\n",
    "            \"Server1\":8,\n",
    "            \"Server2\":2,\n",
    "            \"Server3\":6,\n",
    "            \"Server4\":9,\n",
    "            \"Server5\":3\n",
    "        }\n",
    "    def get_state(self,load):\n",
    "\n",
    "        if load < 4:\n",
    "            return \"Underloaded\"\n",
    "        elif load <= 7:\n",
    "            return \"Balanced\"\n",
    "        else:\n",
    "            return \"Overloaded\"\n",
    "\n",
    "    def balance(self):\n",
    "        \n",
    "        overloaded = []\n",
    "        underloaded = []\n",
    "\n",
    "        for s in self.servers:\n",
    "            if self.servers[s] > 7:\n",
    "                overloaded.append(s)\n",
    "            if self.servers[s] <4:\n",
    "                underloaded.append(s)\n",
    "\n",
    "        while len(overloaded) > 0 and len(underloaded) > 0:\n",
    "            x = overloaded[0]\n",
    "            y = underloaded[0]\n",
    "\n",
    "            self.servers[x] = self.servers[x] - 1\n",
    "            self.servers[y] = self.servers[y] + 1\n",
    "\n",
    "            if self.servers[x] <= 7:\n",
    "                overloaded.pop(0)\n",
    "            if self.servers[y] >=4:\n",
    "                underloaded.pop(0)\n",
    "\n",
    "    def display(self):\n",
    "        for server,load in self.servers.items():\n",
    "            str = self.get_state(load)\n",
    "            print(f\"{server}: {load} ({str})\")\n",
    "        print('')\n",
    "                "
   ]
  },
  {
   "cell_type": "code",
   "execution_count": 29,
   "id": "89b9a69f-1ba3-4e22-b09f-d499785026e4",
   "metadata": {},
   "outputs": [
    {
     "name": "stdout",
     "output_type": "stream",
     "text": [
      "Server status before balancing\n",
      "Server1: 8 (Overloaded)\n",
      "Server2: 2 (Underloaded)\n",
      "Server3: 6 (Balanced)\n",
      "Server4: 9 (Overloaded)\n",
      "Server5: 3 (Underloaded)\n",
      "\n",
      "Server status after balancing\n",
      "Server1: 7 (Balanced)\n",
      "Server2: 4 (Balanced)\n",
      "Server3: 6 (Balanced)\n",
      "Server4: 7 (Balanced)\n",
      "Server5: 4 (Balanced)\n",
      "\n"
     ]
    }
   ],
   "source": [
    "utilityBased = UtilityBased()\n",
    "print(\"Server status before balancing\")\n",
    "utilityBased.display()\n",
    "utilityBased.balance()\n",
    "print(\"Server status after balancing\")\n",
    "utilityBased.display()"
   ]
  },
  {
   "cell_type": "code",
   "execution_count": null,
   "id": "b004b7d5-fd21-44f9-8bdd-95cbc291c349",
   "metadata": {},
   "outputs": [],
   "source": []
  }
 ],
 "metadata": {
  "kernelspec": {
   "display_name": "Python 3 (ipykernel)",
   "language": "python",
   "name": "python3"
  },
  "language_info": {
   "codemirror_mode": {
    "name": "ipython",
    "version": 3
   },
   "file_extension": ".py",
   "mimetype": "text/x-python",
   "name": "python",
   "nbconvert_exporter": "python",
   "pygments_lexer": "ipython3",
   "version": "3.12.1"
  }
 },
 "nbformat": 4,
 "nbformat_minor": 5
}
