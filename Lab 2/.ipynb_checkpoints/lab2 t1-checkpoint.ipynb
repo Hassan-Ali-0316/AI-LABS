{
 "cells": [
  {
   "cell_type": "code",
   "execution_count": 12,
   "id": "13e7c45a-ddf0-493f-910a-a2ac787a3427",
   "metadata": {},
   "outputs": [],
   "source": [
    "class Environment:\n",
    "    def __init__(self):\n",
    "        self.grid = {'A':'vulnerable','B':'safe','C':'vulnerable',\n",
    "                     'D':'vulnerable','E':'safe','F':'safe',\n",
    "                     'G':'vulnerable','H':'vulnerable','I':'safe'}\n",
    "    def display(self):\n",
    "        for component,status in self.grid.items():\n",
    "            if status == 'vulnerable':\n",
    "                print(f\"⚠️ Component {component} : {status}\")\n",
    "            else:\n",
    "                print(f\"✅ Component {component} : {status}\")\n",
    "        print('')\n",
    "\n",
    "    def get_percept(self,position):\n",
    "        return self.grid[position]\n",
    "\n",
    "    def remove_vul(self,position):\n",
    "        self.grid[position] = 'safe'\n",
    "            "
   ]
  },
  {
   "cell_type": "code",
   "execution_count": 13,
   "id": "7a765aa3-362d-4bb8-a560-f7c0c8a06987",
   "metadata": {},
   "outputs": [],
   "source": [
    "class Agent:\n",
    "\n",
    "    def __init__(self,environment):\n",
    "        self.environment = environment\n",
    "\n",
    "    def scan(self,patch):\n",
    "        print('Scannnig...')\n",
    "        print('')\n",
    "        print('Scan results:')\n",
    "        for component,status in environment.grid.items():\n",
    "            if status == 'vulnerable':\n",
    "                print(f\"⚠️ Component {component} is vulnerable, added to patch list\")\n",
    "                patch.append(component)\n",
    "        print('')\n",
    "\n",
    "    def patch_vulnerability(self,environment,patch):\n",
    "        print('Patching vulnerabilities...')\n",
    "        for component in patch:\n",
    "            environment.grid[component] = 'safe'\n",
    "            print(f\"✅ Component {component} is patched and safe\")\n",
    "\n",
    "    "
   ]
  },
  {
   "cell_type": "code",
   "execution_count": 14,
   "id": "22e43ab7-ee6c-4c78-a232-274bff0b57b6",
   "metadata": {},
   "outputs": [],
   "source": [
    "def run_agent(agent,environment,patch):\n",
    "\n",
    "    print(\"Initial System:\")\n",
    "    environment.display()\n",
    "    agent.scan(patch)\n",
    "    agent.patch_vulnerability(environment,patch)\n",
    "    print('')\n",
    "    print(\"After patching vulnerability, system:\")\n",
    "    environment.display()\n",
    "    \n",
    "        "
   ]
  },
  {
   "cell_type": "code",
   "execution_count": 16,
   "id": "f4e43679-65ca-4d12-be40-84720ccb640b",
   "metadata": {},
   "outputs": [
    {
     "name": "stdout",
     "output_type": "stream",
     "text": [
      "Initial System:\n",
      "⚠️ Component A : vulnerable\n",
      "✅ Component B : safe\n",
      "⚠️ Component C : vulnerable\n",
      "⚠️ Component D : vulnerable\n",
      "✅ Component E : safe\n",
      "✅ Component F : safe\n",
      "⚠️ Component G : vulnerable\n",
      "⚠️ Component H : vulnerable\n",
      "✅ Component I : safe\n",
      "\n",
      "Scannnig...\n",
      "\n",
      "Scan results:\n",
      "⚠️ Component A is vulnerable, added to patch list\n",
      "⚠️ Component C is vulnerable, added to patch list\n",
      "⚠️ Component D is vulnerable, added to patch list\n",
      "⚠️ Component G is vulnerable, added to patch list\n",
      "⚠️ Component H is vulnerable, added to patch list\n",
      "\n",
      "Patching vulnerabilities...\n",
      "✅ Component A is patched and safe\n",
      "✅ Component C is patched and safe\n",
      "✅ Component D is patched and safe\n",
      "✅ Component G is patched and safe\n",
      "✅ Component H is patched and safe\n",
      "\n",
      "After patching vulnerability, system:\n",
      "✅ Component A : safe\n",
      "✅ Component B : safe\n",
      "✅ Component C : safe\n",
      "✅ Component D : safe\n",
      "✅ Component E : safe\n",
      "✅ Component F : safe\n",
      "✅ Component G : safe\n",
      "✅ Component H : safe\n",
      "✅ Component I : safe\n",
      "\n"
     ]
    }
   ],
   "source": [
    "environment = Environment()\n",
    "agent = Agent(environment)\n",
    "patch = []\n",
    "run_agent(agent,environment,patch)"
   ]
  },
  {
   "cell_type": "code",
   "execution_count": null,
   "id": "04505a83-6744-4cf9-bdf1-d98c8cdb567a",
   "metadata": {},
   "outputs": [],
   "source": []
  }
 ],
 "metadata": {
  "kernelspec": {
   "display_name": "Python 3 (ipykernel)",
   "language": "python",
   "name": "python3"
  },
  "language_info": {
   "codemirror_mode": {
    "name": "ipython",
    "version": 3
   },
   "file_extension": ".py",
   "mimetype": "text/x-python",
   "name": "python",
   "nbconvert_exporter": "python",
   "pygments_lexer": "ipython3",
   "version": "3.12.1"
  }
 },
 "nbformat": 4,
 "nbformat_minor": 5
}
