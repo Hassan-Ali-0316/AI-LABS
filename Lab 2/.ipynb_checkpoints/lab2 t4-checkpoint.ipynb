{
 "cells": [
  {
   "cell_type": "code",
   "execution_count": 6,
   "id": "e5b96002-9f8e-4d1e-8301-35d72883fd72",
   "metadata": {},
   "outputs": [],
   "source": [
    "def display(system):\n",
    "    for component,status in system.items():\n",
    "        if status == 'Safe':\n",
    "            print(f\"✅ {component}: {status}\")\n",
    "        elif status == 'Low Risk Vulnerable':\n",
    "            print(f\"⚠️ {component}: {status}\")\n",
    "        else:\n",
    "            print(f\"🚨 {component}: {status}\")"
   ]
  },
  {
   "cell_type": "code",
   "execution_count": 9,
   "id": "15d4e7c5-806e-4a48-85ee-eabd9a7fa75a",
   "metadata": {},
   "outputs": [],
   "source": [
    "def scan(system):\n",
    "        for component,status in system.items():\n",
    "            if status == 'Safe':\n",
    "                print(f\"✅ SUCCESS!  Component {component} is safe!\")\n",
    "            else:\n",
    "                print(f\"🚨 WARNING!  Component {component} has vulnerabilities \")"
   ]
  },
  {
   "cell_type": "code",
   "execution_count": 15,
   "id": "e64e0ce4-8439-424e-9fe5-3d72c37de821",
   "metadata": {},
   "outputs": [],
   "source": [
    "def patch(system):\n",
    "    for component,status in system.items():\n",
    "              if status == 'Safe':\n",
    "                continue\n",
    "              elif status == 'Low Risk Vulnerable':\n",
    "                print(f\"Component {component} has been fixed\")\n",
    "                system[component] = 'Safe'\n",
    "              else:\n",
    "                print(f\"🛡️ Component {component} requires premium service\")  "
   ]
  },
  {
   "cell_type": "code",
   "execution_count": 17,
   "id": "c9e5a52e-0060-49f6-a272-297f0574e540",
   "metadata": {},
   "outputs": [
    {
     "name": "stdout",
     "output_type": "stream",
     "text": [
      "Initial System:\n",
      "🚨 A: High Risk Vulnerable\n",
      "⚠️ B: Low Risk Vulnerable\n",
      "⚠️ C: Low Risk Vulnerable\n",
      "✅ D: Safe\n",
      "🚨 E: High Risk Vulnerable\n",
      "🚨 F: High Risk Vulnerable\n",
      "✅ G: Safe\n",
      "✅ H: Safe\n",
      "⚠️ I: Low Risk Vulnerable\n",
      "\n",
      "Scanning...\n",
      "🚨 WARNING!  Component A has vulnerabilities \n",
      "🚨 WARNING!  Component B has vulnerabilities \n",
      "🚨 WARNING!  Component C has vulnerabilities \n",
      "✅ SUCCESS!  Component D is safe!\n",
      "🚨 WARNING!  Component E has vulnerabilities \n",
      "🚨 WARNING!  Component F has vulnerabilities \n",
      "✅ SUCCESS!  Component G is safe!\n",
      "✅ SUCCESS!  Component H is safe!\n",
      "🚨 WARNING!  Component I has vulnerabilities \n",
      "\n",
      "Patching...\n",
      "🛡️ Component A requires premium service\n",
      "Component B has been fixed\n",
      "Component C has been fixed\n",
      "🛡️ Component E requires premium service\n",
      "🛡️ Component F requires premium service\n",
      "Component I has been fixed\n",
      "\n",
      "System after patching:\n",
      "🚨 A: High Risk Vulnerable\n",
      "✅ B: Safe\n",
      "✅ C: Safe\n",
      "✅ D: Safe\n",
      "🚨 E: High Risk Vulnerable\n",
      "🚨 F: High Risk Vulnerable\n",
      "✅ G: Safe\n",
      "✅ H: Safe\n",
      "✅ I: Safe\n"
     ]
    }
   ],
   "source": [
    "system = {\n",
    "    'A': 'High Risk Vulnerable',\n",
    "    'B': 'Low Risk Vulnerable',\n",
    "    'C': 'Low Risk Vulnerable',\n",
    "    'D': 'Safe',\n",
    "    'E': 'High Risk Vulnerable',\n",
    "    'F': 'High Risk Vulnerable',\n",
    "    'G': 'Safe',\n",
    "    'H': 'Safe',\n",
    "    'I': 'Low Risk Vulnerable'\n",
    "}    \n",
    "print('Initial System:')\n",
    "display(system)\n",
    "print('')\n",
    "print('Scanning...')\n",
    "scan(system)\n",
    "print('')\n",
    "print('Patching...')\n",
    "patch(system)\n",
    "print('')\n",
    "print('System after patching:')\n",
    "display(system)"
   ]
  },
  {
   "cell_type": "code",
   "execution_count": null,
   "id": "54f9b9df-104d-45a6-8a97-c75a5d9e3aca",
   "metadata": {},
   "outputs": [],
   "source": []
  }
 ],
 "metadata": {
  "kernelspec": {
   "display_name": "Python 3 (ipykernel)",
   "language": "python",
   "name": "python3"
  },
  "language_info": {
   "codemirror_mode": {
    "name": "ipython",
    "version": 3
   },
   "file_extension": ".py",
   "mimetype": "text/x-python",
   "name": "python",
   "nbconvert_exporter": "python",
   "pygments_lexer": "ipython3",
   "version": "3.12.1"
  }
 },
 "nbformat": 4,
 "nbformat_minor": 5
}
