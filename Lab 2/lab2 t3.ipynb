{
 "cells": [
  {
   "cell_type": "code",
   "execution_count": 9,
   "id": "4bbe272a-f789-432d-894e-f9951cd9f0e3",
   "metadata": {},
   "outputs": [],
   "source": [
    "class Environment:\n",
    "    def __init__(self):\n",
    "        self.tasks = ['completed','failed','completed','completed','completed','failed','failed']\n",
    "    def display(self):\n",
    "        x = 1\n",
    "        for i in self.tasks:\n",
    "            print(f\"Task {x}: {i}\")\n",
    "            x+=1\n",
    "        print('')\n",
    "    def get_percept(self,task):\n",
    "        return tasks[task]\n",
    "    "
   ]
  },
  {
   "cell_type": "code",
   "execution_count": 31,
   "id": "debca44b-8f38-4800-9966-390b21a03697",
   "metadata": {},
   "outputs": [],
   "source": [
    "class Agent:\n",
    "    def __init__(self,environment):\n",
    "        self.environment = environment\n",
    "    def scan_and_backup(self,retry):\n",
    "        print(\"Scanning tasks:\")\n",
    "        print('')\n",
    "        print(\"Scan Result:\")\n",
    "        for i,task in enumerate(environment.tasks):\n",
    "            if task == 'failed':\n",
    "                retry.append(i)\n",
    "                print('')\n",
    "                print(f\"Task {i+1}: is not backed up\")\n",
    "                print(\"Retrying...\")\n",
    "                print(f\"Task {i+1} is now backed up\")\n",
    "                print('')\n",
    "                environment.tasks[i] = 'complete'\n",
    "    \n",
    "        "
   ]
  },
  {
   "cell_type": "code",
   "execution_count": 32,
   "id": "52070506-185d-4993-8125-507953a794ba",
   "metadata": {},
   "outputs": [],
   "source": [
    "def run_agent(agent,environment,retry):\n",
    "    print(\"Initial System:\")\n",
    "    environment.display()\n",
    "    agent.scan_and_backup(retry)\n",
    "    print('')\n",
    "    print('After retrying backups:')\n",
    "    environment.display()\n",
    "    "
   ]
  },
  {
   "cell_type": "code",
   "execution_count": 33,
   "id": "cf9475d8-1166-42be-9a5e-945043174c96",
   "metadata": {},
   "outputs": [
    {
     "name": "stdout",
     "output_type": "stream",
     "text": [
      "Initial System:\n",
      "Task 1: completed\n",
      "Task 2: failed\n",
      "Task 3: completed\n",
      "Task 4: completed\n",
      "Task 5: completed\n",
      "Task 6: failed\n",
      "Task 7: failed\n",
      "\n",
      "Scanning tasks:\n",
      "\n",
      "Scan Result:\n",
      "\n",
      "Task 2: is not backed up\n",
      "Retrying...\n",
      "Task 2 is now backed up\n",
      "\n",
      "\n",
      "Task 6: is not backed up\n",
      "Retrying...\n",
      "Task 6 is now backed up\n",
      "\n",
      "\n",
      "Task 7: is not backed up\n",
      "Retrying...\n",
      "Task 7 is now backed up\n",
      "\n",
      "\n",
      "After retrying backups:\n",
      "Task 1: completed\n",
      "Task 2: complete\n",
      "Task 3: completed\n",
      "Task 4: completed\n",
      "Task 5: completed\n",
      "Task 6: complete\n",
      "Task 7: complete\n",
      "\n"
     ]
    }
   ],
   "source": [
    "environment = Environment()\n",
    "agent = Agent(environment)\n",
    "retry = []\n",
    "run_agent(agent,environment,retry)"
   ]
  },
  {
   "cell_type": "code",
   "execution_count": null,
   "id": "e31105b7-320f-4c08-951f-72d3e4f52696",
   "metadata": {},
   "outputs": [],
   "source": []
  }
 ],
 "metadata": {
  "kernelspec": {
   "display_name": "Python 3 (ipykernel)",
   "language": "python",
   "name": "python3"
  },
  "language_info": {
   "codemirror_mode": {
    "name": "ipython",
    "version": 3
   },
   "file_extension": ".py",
   "mimetype": "text/x-python",
   "name": "python",
   "nbconvert_exporter": "python",
   "pygments_lexer": "ipython3",
   "version": "3.12.1"
  }
 },
 "nbformat": 4,
 "nbformat_minor": 5
}
