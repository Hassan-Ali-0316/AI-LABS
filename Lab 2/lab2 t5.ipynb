{
 "cells": [
  {
   "cell_type": "code",
   "execution_count": 17,
   "id": "dde02b3f-c5ca-4c05-8c13-6394ad55b34d",
   "metadata": {},
   "outputs": [],
   "source": [
    "class Room:\n",
    "    def __init__(self, r_no):\n",
    "        self.r_no = r_no\n",
    "        self.med = None\n",
    "\n",
    "    def give_med(self, med):\n",
    "        self.med = med\n",
    "        print(f\"Medicine {med} delivered to room {self.r_no}\")"
   ]
  },
  {
   "cell_type": "code",
   "execution_count": 18,
   "id": "21833ddf-d5ff-471c-b968-c0fed3373c3a",
   "metadata": {},
   "outputs": [],
   "source": [
    "class MedicineStorage:\n",
    "    def __init__(self):\n",
    "        self.medicine = {\"Painkiller\": 5, \"Antibiotic\": 3}\n",
    "\n",
    "    def pick_medicine(self, med):\n",
    "        if self.medicine.get(med, 0) > 0:\n",
    "            self.medicine[med] -= 1\n",
    "            return med\n",
    "        else:\n",
    "            return None"
   ]
  },
  {
   "cell_type": "code",
   "execution_count": 19,
   "id": "2dca3c8c-3487-48bb-bbda-75a4996a549c",
   "metadata": {},
   "outputs": [],
   "source": [
    "class NurseStation:\n",
    "    def __init__(self):\n",
    "        self.nurse_available = True\n",
    "\n",
    "    def alert_nurse(self):\n",
    "        if self.nurse_available:\n",
    "            print(\"Alerting Nurse\")\n",
    "        else:\n",
    "            print(\"No nurse available\")\n"
   ]
  },
  {
   "cell_type": "code",
   "execution_count": 21,
   "id": "b3b39fad-9891-41a5-9e87-57407e05fe04",
   "metadata": {},
   "outputs": [],
   "source": [
    "class Robot:\n",
    "    def __init__(self, storage, nurse_station):\n",
    "        self.location = None\n",
    "        self.carrying = None\n",
    "        self.storage = storage\n",
    "        self.nurse_station = nurse_station\n",
    "\n",
    "    def move(self, location):\n",
    "        self.location = location\n",
    "        print(f\"Robot moved to {location}.\")\n",
    "\n",
    "    def pick_medicine(self, medicine):\n",
    "        self.carrying = self.storage.pick_medicine(medicine)\n",
    "        if self.carrying:\n",
    "            print(f\"Picked up {medicine}.\")\n",
    "        else:\n",
    "            print(\"Medicine not available.\")\n",
    "\n",
    "    def deliver_medicine(self, room):\n",
    "        if self.carrying:\n",
    "            room.give_med(self.carrying)\n",
    "            self.carrying = None\n",
    "        else:\n",
    "            print(\"No medicine to deliver.\")\n",
    "\n",
    "    def alert_staff(self):\n",
    "        self.nurse_station.alert_nurse()\n"
   ]
  },
  {
   "cell_type": "code",
   "execution_count": 22,
   "id": "d656121d-153f-4fe6-b48b-9bb8bf134f56",
   "metadata": {},
   "outputs": [
    {
     "name": "stdout",
     "output_type": "stream",
     "text": [
      "Robot moved to Medicine Storage.\n",
      "Picked up Painkiller.\n",
      "Robot moved to 109.\n",
      "Medicine Painkiller delivered to room 109\n",
      "Alerting Nurse\n"
     ]
    }
   ],
   "source": [
    "storage = MedicineStorage()\n",
    "nurse_station = NurseStation()\n",
    "robot = Robot(storage, nurse_station)\n",
    "r109 = Room(\"109\")\n",
    "\n",
    "robot.move(\"Medicine Storage\")\n",
    "robot.pick_medicine(\"Painkiller\")\n",
    "robot.move(\"109\")\n",
    "robot.deliver_medicine(r109)\n",
    "robot.alert_staff()"
   ]
  },
  {
   "cell_type": "code",
   "execution_count": null,
   "id": "6aacfa6d-f4ee-405f-b4d4-79aa52702a46",
   "metadata": {},
   "outputs": [],
   "source": []
  }
 ],
 "metadata": {
  "kernelspec": {
   "display_name": "Python 3 (ipykernel)",
   "language": "python",
   "name": "python3"
  },
  "language_info": {
   "codemirror_mode": {
    "name": "ipython",
    "version": 3
   },
   "file_extension": ".py",
   "mimetype": "text/x-python",
   "name": "python",
   "nbconvert_exporter": "python",
   "pygments_lexer": "ipython3",
   "version": "3.12.1"
  }
 },
 "nbformat": 4,
 "nbformat_minor": 5
}
