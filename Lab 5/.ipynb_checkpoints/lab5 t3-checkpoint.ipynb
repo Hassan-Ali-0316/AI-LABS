{
 "cells": [
  {
   "cell_type": "code",
   "execution_count": 1,
   "id": "f232091f-f5d9-4fcd-a3d2-755d05277cec",
   "metadata": {},
   "outputs": [],
   "source": [
    "import random\n",
    "import math"
   ]
  },
  {
   "cell_type": "code",
   "execution_count": 3,
   "id": "90d42324-4ff0-4294-990e-fdbeb4f4b463",
   "metadata": {},
   "outputs": [],
   "source": [
    "def distance(city1, city2):\n",
    "    return math.sqrt((city1[0] - city2[0])**2 + (city1[1] - city2[1])**2)"
   ]
  },
  {
   "cell_type": "code",
   "execution_count": 5,
   "id": "2754bd5f-509c-4521-b6cd-4c73e3372fb4",
   "metadata": {},
   "outputs": [],
   "source": [
    "def total_route(route):\n",
    "    return sum(distance(route[i], route[i+1]) for i in range(len(route)-1)) + distance(route[-1], route[0])"
   ]
  },
  {
   "cell_type": "code",
   "execution_count": 6,
   "id": "41843f7b-b407-44c1-bbc2-41c52e8f6e95",
   "metadata": {},
   "outputs": [],
   "source": [
    "def create_population(cities, size=100):\n",
    "    return [random.sample(cities, len(cities)) for _ in range(size)]"
   ]
  },
  {
   "cell_type": "code",
   "execution_count": 7,
   "id": "2844a872-10fb-4f79-b126-3ddabb5d5fe6",
   "metadata": {},
   "outputs": [],
   "source": [
    "def select_parents(population):\n",
    "    return random.sample(population, 2)"
   ]
  },
  {
   "cell_type": "code",
   "execution_count": 8,
   "id": "afbb77dd-0340-4bce-ad10-f59d579cfe70",
   "metadata": {},
   "outputs": [],
   "source": [
    "def crossover(parent1, parent2):\n",
    "    size = len(parent1)\n",
    "    start, end = sorted(random.sample(range(size), 2))\n",
    "    child = [None] * size\n",
    "    child[start:end] = parent1[start:end]\n",
    "    remaining = [city for city in parent2 if city not in child]\n",
    "    idx = 0\n",
    "    for i in range(size):\n",
    "        if child[i] is None:\n",
    "            child[i] = remaining[idx]\n",
    "            idx += 1\n",
    "    return child"
   ]
  },
  {
   "cell_type": "code",
   "execution_count": 9,
   "id": "da429992-3097-4c63-a73a-8038aaa9e8b4",
   "metadata": {},
   "outputs": [],
   "source": [
    "def mutate(route, mutation_rate=0.1):\n",
    "    if random.random() < mutation_rate:\n",
    "        i, j = random.sample(range(len(route)), 2)\n",
    "        route[i], route[j] = route[j], route[i]\n",
    "    return route"
   ]
  },
  {
   "cell_type": "code",
   "execution_count": 10,
   "id": "7361381f-ebe8-4306-b3c2-8f280b44e0c7",
   "metadata": {},
   "outputs": [],
   "source": [
    "def genetic_algorithm(cities, generations=500, population_size=100, mutation_rate=0.1):\n",
    "    population = create_population(cities, population_size)\n",
    "    \n",
    "    for _ in range(generations):\n",
    "        population = sorted(population, key=total_route_distance)\n",
    "        new_population = population[:10]  \n",
    "        while len(new_population) < population_size:\n",
    "            parent1, parent2 = select_parents(population[:50]) \n",
    "            child = crossover(parent1, parent2)\n",
    "            child = mutate(child, mutation_rate)\n",
    "            new_population.append(child)\n",
    "        population = new_population\n",
    "    \n",
    "    best_route = min(population, key=total_route_distance)\n",
    "    return best_route, total_route(best_route)"
   ]
  },
  {
   "cell_type": "code",
   "execution_count": 11,
   "id": "6b538026-d7a8-4ddc-bbde-06169d32da7a",
   "metadata": {},
   "outputs": [
    {
     "name": "stdout",
     "output_type": "stream",
     "text": [
      "Best Route: [(81, 62), (76, 74), (34, 76), (28, 92), (21, 84), (5, 81), (12, 57), (31, 53), (7, 13), (98, 28)]\n",
      "Best Distance: 320.3498029992837\n"
     ]
    }
   ],
   "source": [
    "cities = [(random.randint(0, 100), random.randint(0, 100)) for _ in range(10)]\n",
    "best_route, best_distance = genetic_algorithm(cities)\n",
    "print(\"Best Route:\", best_route)\n",
    "print(\"Best Distance:\", best_distance)"
   ]
  },
  {
   "cell_type": "code",
   "execution_count": null,
   "id": "b2dd3bd6-ba6e-4e19-bb63-efb5637bf592",
   "metadata": {},
   "outputs": [],
   "source": []
  }
 ],
 "metadata": {
  "kernelspec": {
   "display_name": "Python 3 (ipykernel)",
   "language": "python",
   "name": "python3"
  },
  "language_info": {
   "codemirror_mode": {
    "name": "ipython",
    "version": 3
   },
   "file_extension": ".py",
   "mimetype": "text/x-python",
   "name": "python",
   "nbconvert_exporter": "python",
   "pygments_lexer": "ipython3",
   "version": "3.12.1"
  }
 },
 "nbformat": 4,
 "nbformat_minor": 5
}
