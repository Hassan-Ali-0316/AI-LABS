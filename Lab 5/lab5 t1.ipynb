{
 "cells": [
  {
   "cell_type": "code",
   "execution_count": 7,
   "id": "f2927d7f-e846-4045-b548-8946092907c8",
   "metadata": {},
   "outputs": [],
   "source": [
    "import chess\n",
    "import heapq"
   ]
  },
  {
   "cell_type": "code",
   "execution_count": 16,
   "id": "8488b16d-1e49-4dce-9242-6bad47992333",
   "metadata": {},
   "outputs": [],
   "source": [
    "def eval_board(board):\n",
    "    piece_values = {chess.PAWN:1,chess.KNIGHT:3,chess.BISHOP:3,\n",
    "                    chess.ROOK:5,chess.QUEEN:9,chess.KING:0}\n",
    "    score = 0\n",
    "    for piece_type in piece_values:\n",
    "        score += len(board.pieces(piece_type,chess.WHITE)) * piece_values[piece_type]\n",
    "        score -= len(board.pieces(piece_type,chess.BLACK)) * piece_values[piece_type]\n",
    "\n",
    "    return score"
   ]
  },
  {
   "cell_type": "code",
   "execution_count": 17,
   "id": "4454693f-f88e-484f-80cb-28bf1e78ce07",
   "metadata": {},
   "outputs": [],
   "source": [
    "def beam_search(board, beam_width=3, depth=3):\n",
    "    frontier = [(board, [])] \n",
    "    \n",
    "    for _ in range(depth):\n",
    "        candidates = []\n",
    "        for state, moves in frontier:\n",
    "            legal_moves = list(state.legal_moves)\n",
    "            \n",
    "            for move in legal_moves:\n",
    "                new_state = state.copy()\n",
    "                new_state.push(move)\n",
    "                score = eval_board(new_state)\n",
    "                candidates.append((score, new_state, moves + [move]))\n",
    "        \n",
    "        candidates.sort(reverse=True, key=lambda x: x[0])\n",
    "        frontier = [(state, moves) for _, state, moves in candidates[:beam_width]]\n",
    "\n",
    "    best_score, best_state, best_moves = max(candidates, key=lambda x: x[0])\n",
    "    return best_moves, best_score"
   ]
  },
  {
   "cell_type": "code",
   "execution_count": 18,
   "id": "03711968-5e51-4a5c-abdc-0b2f3b672b0e",
   "metadata": {},
   "outputs": [
    {
     "name": "stdout",
     "output_type": "stream",
     "text": [
      "Best move sequence: [Move.from_uci('g1h3'), Move.from_uci('g8h6'), Move.from_uci('h3g5')]\n",
      "Evaluation score: 0\n"
     ]
    }
   ],
   "source": [
    "board = chess.Board()\n",
    "beam_width = 3\n",
    "depth = 3\n",
    "best_moves, score = beam_search(board, beam_width, depth)\n",
    "print(\"Best move sequence:\", best_moves)\n",
    "print(\"Evaluation score:\", score)"
   ]
  },
  {
   "cell_type": "code",
   "execution_count": null,
   "id": "af0c9055-6150-4294-ba58-f2f0944eaf58",
   "metadata": {},
   "outputs": [],
   "source": []
  }
 ],
 "metadata": {
  "kernelspec": {
   "display_name": "Python 3 (ipykernel)",
   "language": "python",
   "name": "python3"
  },
  "language_info": {
   "codemirror_mode": {
    "name": "ipython",
    "version": 3
   },
   "file_extension": ".py",
   "mimetype": "text/x-python",
   "name": "python",
   "nbconvert_exporter": "python",
   "pygments_lexer": "ipython3",
   "version": "3.12.1"
  }
 },
 "nbformat": 4,
 "nbformat_minor": 5
}
