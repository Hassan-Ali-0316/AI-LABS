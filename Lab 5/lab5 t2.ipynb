{
 "cells": [
  {
   "cell_type": "code",
   "execution_count": 1,
   "id": "e644110e-c939-448f-abf4-fd652912db90",
   "metadata": {},
   "outputs": [],
   "source": [
    "import random\n",
    "import math"
   ]
  },
  {
   "cell_type": "code",
   "execution_count": 3,
   "id": "b9f1cb3d-9dcc-46ba-bf85-de8729bf8eca",
   "metadata": {},
   "outputs": [],
   "source": [
    "def distance(p1,p2):\n",
    "    return math.sqrt((p1[0]-p2[0]) ** 2 + (p1[1]-p2[1]) ** 2)"
   ]
  },
  {
   "cell_type": "code",
   "execution_count": 4,
   "id": "1bb5924c-1ecd-43b6-bdb9-28402b448ee0",
   "metadata": {},
   "outputs": [],
   "source": [
    "def total_distance(route):\n",
    "    return sum(distance(route[i],route[i+1]) for i in range(len(route)-1)) + distance(route[-1],route[0])"
   ]
  },
  {
   "cell_type": "code",
   "execution_count": 5,
   "id": "0fa70385-4266-4884-bdaa-d885eb7e1629",
   "metadata": {},
   "outputs": [],
   "source": [
    "def hill_climb(locations,max_iter=1000):\n",
    "    current_route = locations[:]\n",
    "    random.shuffle(current_route)\n",
    "    current_distance = total_distance(current_route)\n",
    "\n",
    "    for _ in range(max_iter):\n",
    "        new_route = current_route[:]\n",
    "        i,j = random.sample(range(len(new_route)),2)\n",
    "        new_route[i],new_route[j] = new_route[j],new_route[i]\n",
    "        new_distance = total_distance(new_route)\n",
    "\n",
    "        if new_distance < current_distance:\n",
    "            current_route = new_route\n",
    "            current_distance = new_distance\n",
    "    return current_route,new_distance"
   ]
  },
  {
   "cell_type": "code",
   "execution_count": 6,
   "id": "1c804c14-d937-49ea-aed7-03f2f46add1a",
   "metadata": {},
   "outputs": [
    {
     "name": "stdout",
     "output_type": "stream",
     "text": [
      "Optimized Route: [(5, 8), (1, 5), (2, 3), (0, 0), (6, 1)]\n",
      "Total Distance: 28.749792434318707\n"
     ]
    }
   ],
   "source": [
    "locations = [(0, 0), (2, 3), (5, 8), (6, 1), (1, 5)]\n",
    "optimized_route,total_distance = hill_climb(locations)\n",
    "print(\"Optimized Route:\", optimized_route)\n",
    "print(\"Total Distance:\", total_distance)"
   ]
  },
  {
   "cell_type": "code",
   "execution_count": null,
   "id": "19e467e8-4f66-4bac-9421-6139cd682799",
   "metadata": {},
   "outputs": [],
   "source": []
  }
 ],
 "metadata": {
  "kernelspec": {
   "display_name": "Python 3 (ipykernel)",
   "language": "python",
   "name": "python3"
  },
  "language_info": {
   "codemirror_mode": {
    "name": "ipython",
    "version": 3
   },
   "file_extension": ".py",
   "mimetype": "text/x-python",
   "name": "python",
   "nbconvert_exporter": "python",
   "pygments_lexer": "ipython3",
   "version": "3.12.1"
  }
 },
 "nbformat": 4,
 "nbformat_minor": 5
}
