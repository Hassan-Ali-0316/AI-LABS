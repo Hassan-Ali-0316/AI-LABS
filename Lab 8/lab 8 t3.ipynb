{
 "cells": [
  {
   "cell_type": "code",
   "execution_count": 1,
   "id": "0b0a1528-a854-418a-8b3c-a57667262aa9",
   "metadata": {},
   "outputs": [
    {
     "ename": "ModuleNotFoundError",
     "evalue": "No module named 'pgmpy'",
     "output_type": "error",
     "traceback": [
      "\u001b[1;31m---------------------------------------------------------------------------\u001b[0m",
      "\u001b[1;31mModuleNotFoundError\u001b[0m                       Traceback (most recent call last)",
      "Cell \u001b[1;32mIn[1], line 1\u001b[0m\n\u001b[1;32m----> 1\u001b[0m \u001b[38;5;28;01mfrom\u001b[39;00m \u001b[38;5;21;01mpgmpy\u001b[39;00m\u001b[38;5;21;01m.\u001b[39;00m\u001b[38;5;21;01mmodels\u001b[39;00m \u001b[38;5;28;01mimport\u001b[39;00m BayesianNetwork\n\u001b[0;32m      2\u001b[0m \u001b[38;5;28;01mfrom\u001b[39;00m \u001b[38;5;21;01mpgmpy\u001b[39;00m\u001b[38;5;21;01m.\u001b[39;00m\u001b[38;5;21;01mfactors\u001b[39;00m\u001b[38;5;21;01m.\u001b[39;00m\u001b[38;5;21;01mdiscrete\u001b[39;00m \u001b[38;5;28;01mimport\u001b[39;00m TabularCPD\n\u001b[0;32m      3\u001b[0m \u001b[38;5;28;01mfrom\u001b[39;00m \u001b[38;5;21;01mpgmpy\u001b[39;00m\u001b[38;5;21;01m.\u001b[39;00m\u001b[38;5;21;01minference\u001b[39;00m \u001b[38;5;28;01mimport\u001b[39;00m VariableElimination\n",
      "\u001b[1;31mModuleNotFoundError\u001b[0m: No module named 'pgmpy'"
     ]
    }
   ],
   "source": [
    "from pgmpy.models import BayesianNetwork\n",
    "from pgmpy.factors.discrete import TabularCPD\n",
    "from pgmpy.inference import VariableElimination\n",
    "\n",
    "# 1. Define the structure\n",
    "model = BayesianNetwork([\n",
    "    ('Disease', 'Fever'),\n",
    "    ('Disease', 'Cough'),\n",
    "    ('Disease', 'Fatigue'),\n",
    "    ('Disease', 'Chills')  # Added chills\n",
    "])\n",
    "\n",
    "# 2. Define CPTs (assumed probabilities)\n",
    "\n",
    "# P(Disease)\n",
    "cpd_disease = TabularCPD(variable='Disease', variable_card=2, values=[[0.6], [0.4]],\n",
    "                         state_names={'Disease': ['cold', 'flu']})\n",
    "\n",
    "# P(Fever | Disease)\n",
    "cpd_fever = TabularCPD(\n",
    "    variable='Fever', variable_card=2,\n",
    "    values=[[0.8, 0.3], [0.2, 0.7]],  # rows: Fever=no, Fever=yes\n",
    "    evidence=['Disease'], evidence_card=[2],\n",
    "    state_names={'Fever': [0, 1], 'Disease': ['cold', 'flu']}\n",
    ")\n",
    "\n",
    "# P(Cough | Disease)\n",
    "cpd_cough = TabularCPD(\n",
    "    variable='Cough', variable_card=2,\n",
    "    values=[[0.4, 0.1], [0.6, 0.9]],\n",
    "    evidence=['Disease'], evidence_card=[2],\n",
    "    state_names={'Cough': [0, 1], 'Disease': ['cold', 'flu']}\n",
    ")\n",
    "\n",
    "# P(Fatigue | Disease)\n",
    "cpd_fatigue = TabularCPD(\n",
    "    variable='Fatigue', variable_card=2,\n",
    "    values=[[0.7, 0.2], [0.3, 0.8]],\n",
    "    evidence=['Disease'], evidence_card=[2],\n",
    "    state_names={'Fatigue': [0, 1], 'Disease': ['cold', 'flu']}\n",
    ")\n",
    "\n",
    "# P(Chills | Disease)\n",
    "cpd_chills = TabularCPD(\n",
    "    variable='Chills', variable_card=2,\n",
    "    values=[[0.9, 0.4], [0.1, 0.6]],\n",
    "    evidence=['Disease'], evidence_card=[2],\n",
    "    state_names={'Chills': [0, 1], 'Disease': ['cold', 'flu']}\n",
    ")\n",
    "\n",
    "# 3. Add CPTs to model\n",
    "model.add_cpds(cpd_disease, cpd_fever, cpd_cough, cpd_fatigue, cpd_chills)\n",
    "\n",
    "# Validate model\n",
    "assert model.check_model()\n",
    "\n",
    "# 4. Inference\n",
    "infer = VariableElimination(model)\n",
    "\n",
    "# Q1: P(Disease | Fever=1, Cough=1)\n",
    "q1 = infer.query(variables=['Disease'], evidence={'Fever': 1, 'Cough': 1})\n",
    "print(\"\\nP(Disease | fever, cough):\\n\", q1)\n",
    "\n",
    "# Q2: P(Disease | Fever=1, Cough=1, Chills=1)\n",
    "q2 = infer.query(variables=['Disease'], evidence={'Fever': 1, 'Cough': 1, 'Chills': 1})\n",
    "print(\"\\nP(Disease | fever, cough, chills):\\n\", q2)\n",
    "\n",
    "# Q3: P(Fatigue | Disease=flu)\n",
    "q3 = infer.query(variables=['Fatigue'], evidence={'Disease': 'flu'})\n",
    "print(\"\\nP(Fatigue | flu):\\n\", q3)\n"
   ]
  },
  {
   "cell_type": "code",
   "execution_count": null,
   "id": "66ca4b4c-354d-4fa4-921c-a8684ad110e3",
   "metadata": {},
   "outputs": [],
   "source": []
  }
 ],
 "metadata": {
  "kernelspec": {
   "display_name": "Python 3 (ipykernel)",
   "language": "python",
   "name": "python3"
  },
  "language_info": {
   "codemirror_mode": {
    "name": "ipython",
    "version": 3
   },
   "file_extension": ".py",
   "mimetype": "text/x-python",
   "name": "python",
   "nbconvert_exporter": "python",
   "pygments_lexer": "ipython3",
   "version": "3.12.1"
  }
 },
 "nbformat": 4,
 "nbformat_minor": 5
}
