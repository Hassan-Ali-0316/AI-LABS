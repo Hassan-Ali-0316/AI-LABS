{
 "cells": [
  {
   "cell_type": "code",
   "execution_count": 1,
   "id": "f44886e2-fd4b-4e08-8386-a5e3b840475f",
   "metadata": {},
   "outputs": [],
   "source": [
    "suits = ['hearts', 'diamonds', 'clubs', 'spades']\n",
    "ranks = ['2', '3', '4', '5', '6', '7', '8', '9', '10', 'J', 'Q', 'K', 'A']\n",
    "\n",
    "deck = []\n",
    "for suit in suits:\n",
    "    for rank in ranks:\n",
    "        deck.append((rank, suit))"
   ]
  },
  {
   "cell_type": "code",
   "execution_count": 7,
   "id": "5a4fba29-bfe9-4716-bb66-7b49fc9d200d",
   "metadata": {},
   "outputs": [],
   "source": [
    "red_cards = [card for card in deck if card[1] in ['hearts', 'diamonds']]\n",
    "p_red = len(red_cards) / len(deck)"
   ]
  },
  {
   "cell_type": "code",
   "execution_count": 8,
   "id": "b3f62681-bb54-4402-a6b0-96929df68d3a",
   "metadata": {},
   "outputs": [],
   "source": [
    "red_hearts = [card for card in red_cards if card[1] == 'hearts']\n",
    "p_heart_given_red = len(red_hearts) / len(red_cards)"
   ]
  },
  {
   "cell_type": "code",
   "execution_count": 9,
   "id": "ab3b08af-cd3d-4e6d-89eb-5137f0e9856c",
   "metadata": {},
   "outputs": [],
   "source": [
    "face_cards = [card for card in deck if card[0] in ['J', 'Q', 'K']]\n",
    "face_diamonds = [card for card in face_cards if card[1] == 'diamonds']\n",
    "p_diamond_given_face = len(face_diamonds) / len(face_cards)"
   ]
  },
  {
   "cell_type": "code",
   "execution_count": 10,
   "id": "d1d7bbe5-99f2-41fc-be0e-f050b416665c",
   "metadata": {},
   "outputs": [],
   "source": [
    "face_spade_or_queen = [card for card in face_cards if card[1] == 'spades' or card[0] == 'Q']\n",
    "p_spade_or_queen_given_face = len(face_spade_or_queen) / len(face_cards)"
   ]
  },
  {
   "cell_type": "code",
   "execution_count": 13,
   "id": "3fb858c6-cde2-41d1-aac8-373f2c4a0382",
   "metadata": {},
   "outputs": [
    {
     "name": "stdout",
     "output_type": "stream",
     "text": [
      "Probability of drawing a red card: 0.5\n",
      "P(heart : red): 0.5\n",
      "P(diamond : face card): 0.25\n",
      "P(spade or queen : face card): 0.5\n"
     ]
    }
   ],
   "source": [
    "print(\"Probability of drawing a red card:\", p_red)\n",
    "print(\"P(heart : red):\", p_heart_given_red)\n",
    "print(\"P(diamond : face card):\", p_diamond_given_face)\n",
    "print(\"P(spade or queen : face card):\", p_spade_or_queen_given_face)"
   ]
  },
  {
   "cell_type": "code",
   "execution_count": null,
   "id": "81e71b07-0561-4a6b-801a-e10db15735aa",
   "metadata": {},
   "outputs": [],
   "source": []
  }
 ],
 "metadata": {
  "kernelspec": {
   "display_name": "Python 3 (ipykernel)",
   "language": "python",
   "name": "python3"
  },
  "language_info": {
   "codemirror_mode": {
    "name": "ipython",
    "version": 3
   },
   "file_extension": ".py",
   "mimetype": "text/x-python",
   "name": "python",
   "nbconvert_exporter": "python",
   "pygments_lexer": "ipython3",
   "version": "3.12.1"
  }
 },
 "nbformat": 4,
 "nbformat_minor": 5
}
