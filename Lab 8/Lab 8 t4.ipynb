{
 "cells": [
  {
   "cell_type": "code",
   "execution_count": 1,
   "id": "2d6fde66-6105-4ad7-86dd-4a0b5b17f904",
   "metadata": {},
   "outputs": [
    {
     "name": "stdout",
     "output_type": "stream",
     "text": [
      "Weather for next 10 days: ['Sunny', 'Sunny', 'Rainy', 'Cloudy', 'Rainy', 'Cloudy', 'Sunny', 'Sunny', 'Cloudy', 'Sunny']\n",
      "\n",
      "Estimated probability of at least 3 rainy days in 10 days: 0.2857\n"
     ]
    }
   ],
   "source": [
    "import random\n",
    "\n",
    "# Step 1: Define states\n",
    "states = ['Sunny', 'Cloudy', 'Rainy']\n",
    "\n",
    "# Step 2: Define transition matrix as a dictionary\n",
    "transition_matrix = {\n",
    "    'Sunny':   [0.6, 0.3, 0.1],   # Probabilities to Sunny, Cloudy, Rainy\n",
    "    'Cloudy':  [0.3, 0.4, 0.3],\n",
    "    'Rainy':   [0.2, 0.5, 0.3]\n",
    "}\n",
    "\n",
    "# Helper function to get next state\n",
    "def next_state(current_state):\n",
    "    return random.choices(states, weights=transition_matrix[current_state])[0]\n",
    "\n",
    "# Step 3: Simulate weather for 10 days\n",
    "def simulate_weather(start_state='Sunny', days=10):\n",
    "    weather_sequence = [start_state]\n",
    "    for _ in range(days - 1):\n",
    "        current = weather_sequence[-1]\n",
    "        weather_sequence.append(next_state(current))\n",
    "    return weather_sequence\n",
    "\n",
    "# Step 4: Run multiple simulations to estimate probability of ≥3 rainy days\n",
    "def estimate_probability_rainy_days(simulations=10000):\n",
    "    count = 0\n",
    "    for _ in range(simulations):\n",
    "        sequence = simulate_weather()\n",
    "        rainy_days = sequence.count('Rainy')\n",
    "        if rainy_days >= 3:\n",
    "            count += 1\n",
    "    return count / simulations\n",
    "\n",
    "# Run a single simulation and print the sequence\n",
    "sequence = simulate_weather()\n",
    "print(\"Weather for next 10 days:\", sequence)\n",
    "\n",
    "# Estimate probability\n",
    "prob = estimate_probability_rainy_days()\n",
    "print(\"\\nEstimated probability of at least 3 rainy days in 10 days:\", round(prob, 4))\n"
   ]
  },
  {
   "cell_type": "code",
   "execution_count": null,
   "id": "9a971684-d0ed-4372-aee2-26d4fbaec42b",
   "metadata": {},
   "outputs": [],
   "source": []
  }
 ],
 "metadata": {
  "kernelspec": {
   "display_name": "Python 3 (ipykernel)",
   "language": "python",
   "name": "python3"
  },
  "language_info": {
   "codemirror_mode": {
    "name": "ipython",
    "version": 3
   },
   "file_extension": ".py",
   "mimetype": "text/x-python",
   "name": "python",
   "nbconvert_exporter": "python",
   "pygments_lexer": "ipython3",
   "version": "3.12.1"
  }
 },
 "nbformat": 4,
 "nbformat_minor": 5
}
