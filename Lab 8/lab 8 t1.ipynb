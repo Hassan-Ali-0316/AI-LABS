{
 "cells": [
  {
   "cell_type": "code",
   "execution_count": 11,
   "id": "500b2649-63a5-4b9b-9895-36dddfaabf4a",
   "metadata": {},
   "outputs": [],
   "source": [
    "single_die = [1, 2, 3, 4, 5, 6]"
   ]
  },
  {
   "cell_type": "code",
   "execution_count": 12,
   "id": "f1faab61-c46a-4194-b01d-857bc3d05a68",
   "metadata": {},
   "outputs": [],
   "source": [
    "# 1. Probability of getting an even number\n",
    "even_numbers = [n for n in single_die if n % 2 == 0]\n",
    "p_even = len(even_numbers) / len(single_die)"
   ]
  },
  {
   "cell_type": "code",
   "execution_count": 13,
   "id": "6a943196-b090-4b3b-890c-50594c43a9d3",
   "metadata": {},
   "outputs": [],
   "source": [
    "# 2. Probability of rolling a number greater than 4\n",
    "greater_than_4 = [n for n in single_die if n > 4]\n",
    "p_gt4 = len(greater_than_4) / len(single_die)"
   ]
  },
  {
   "cell_type": "code",
   "execution_count": 14,
   "id": "448196d3-fad3-436f-96e6-fde81c21c329",
   "metadata": {},
   "outputs": [],
   "source": [
    "# 3. Probability of rolling a number less than 3\n",
    "less_than_3 = [n for n in single_die if n < 3]\n",
    "p_lt3 = len(less_than_3) / len(single_die)"
   ]
  },
  {
   "cell_type": "code",
   "execution_count": 15,
   "id": "f18d044f-704d-4eca-b421-86d08fde04a7",
   "metadata": {},
   "outputs": [],
   "source": [
    "# Task 2: Two dice calculations using nested loops\n",
    "dice_combinations = []\n",
    "for i in single_die:\n",
    "    for j in single_die:\n",
    "        dice_combinations.append((i, j))\n"
   ]
  },
  {
   "cell_type": "code",
   "execution_count": 16,
   "id": "49d0d2c0-9b48-4fcf-97a5-2e9476813a6d",
   "metadata": {},
   "outputs": [],
   "source": [
    "# 4. Probability that the sum is 7 or more\n",
    "sum_7_or_more = [pair for pair in dice_combinations if pair[0] + pair[1] >= 7]\n",
    "p_sum_7_or_more = len(sum_7_or_more) / len(dice_combinations)"
   ]
  },
  {
   "cell_type": "code",
   "execution_count": 17,
   "id": "1cc1f39a-d8aa-4c81-aa7a-8de637e77015",
   "metadata": {},
   "outputs": [],
   "source": [
    "# 5. Probability that the sum is exactly 8\n",
    "sum_exactly_8 = [pair for pair in dice_combinations if pair[0] + pair[1] == 8]\n",
    "p_sum_8 = len(sum_exactly_8) / len(dice_combinations)"
   ]
  },
  {
   "cell_type": "code",
   "execution_count": 18,
   "id": "27ceab74-baf2-4043-a9d7-488176ac5d19",
   "metadata": {},
   "outputs": [],
   "source": [
    "# 6. Given first die > 4, probability second die is odd\n",
    "first_gt_4 = [pair for pair in dice_combinations if pair[0] > 4]\n",
    "second_is_odd_given_first_gt_4 = [pair for pair in first_gt_4 if pair[1] % 2 == 1]\n",
    "p_conditional = len(second_is_odd_given_first_gt_4) / len(first_gt_4)"
   ]
  },
  {
   "cell_type": "code",
   "execution_count": 19,
   "id": "c19a1c31-280f-4eff-8055-fefd8be5cde0",
   "metadata": {},
   "outputs": [
    {
     "name": "stdout",
     "output_type": "stream",
     "text": [
      "Probability of even number on single die: 0.5\n",
      "Probability of number > 4: 0.3333333333333333\n",
      "Probability of number < 3: 0.3333333333333333\n",
      "Probability of sum ≥ 7 (two dice): 0.5833333333333334\n",
      "Probability of sum = 8 (two dice): 0.1388888888888889\n",
      "P(second die is odd | first die > 4): 0.5\n"
     ]
    }
   ],
   "source": [
    "# Print results\n",
    "print(\"Probability of even number on single die:\", p_even)\n",
    "print(\"Probability of number > 4:\", p_gt4)\n",
    "print(\"Probability of number < 3:\", p_lt3)\n",
    "print(\"Probability of sum ≥ 7 (two dice):\", p_sum_7_or_more)\n",
    "print(\"Probability of sum = 8 (two dice):\", p_sum_8)\n",
    "print(\"P(second die is odd | first die > 4):\", p_conditional)\n"
   ]
  },
  {
   "cell_type": "code",
   "execution_count": null,
   "id": "32cf090f-a9e0-4546-ad9a-84dbaf70d562",
   "metadata": {},
   "outputs": [],
   "source": []
  }
 ],
 "metadata": {
  "kernelspec": {
   "display_name": "Python 3 (ipykernel)",
   "language": "python",
   "name": "python3"
  },
  "language_info": {
   "codemirror_mode": {
    "name": "ipython",
    "version": 3
   },
   "file_extension": ".py",
   "mimetype": "text/x-python",
   "name": "python",
   "nbconvert_exporter": "python",
   "pygments_lexer": "ipython3",
   "version": "3.12.1"
  }
 },
 "nbformat": 4,
 "nbformat_minor": 5
}
